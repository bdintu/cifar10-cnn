{
  "nbformat": 4,
  "nbformat_minor": 0,
  "metadata": {
    "accelerator": "GPU",
    "colab": {
      "name": "cifr10-params83k-valacc85.ipynb",
      "provenance": [],
      "collapsed_sections": []
    },
    "kernelspec": {
      "display_name": "Python 3",
      "language": "python",
      "name": "python3"
    },
    "language_info": {
      "codemirror_mode": {
        "name": "ipython",
        "version": 3
      },
      "file_extension": ".py",
      "mimetype": "text/x-python",
      "name": "python",
      "nbconvert_exporter": "python",
      "pygments_lexer": "ipython3",
      "version": "3.6.8"
    }
  },
  "cells": [
    {
      "cell_type": "markdown",
      "metadata": {
        "colab_type": "text",
        "id": "oOEs2wWEq3oY"
      },
      "source": [
        "# **Keras code for CIFAR10 classification by CNN**"
      ]
    },
    {
      "cell_type": "markdown",
      "metadata": {
        "colab_type": "text",
        "id": "eusODB8LExaP"
      },
      "source": [
        "This simple CNN generates about 36% test accuracy for 100 training epochs."
      ]
    },
    {
      "cell_type": "markdown",
      "metadata": {
        "id": "aOMYLSBjVYml",
        "colab_type": "text"
      },
      "source": [
        "### **Colab mount drive**"
      ]
    },
    {
      "cell_type": "code",
      "metadata": {
        "id": "bDQaHDE7VUNx",
        "colab_type": "code",
        "colab": {
          "base_uri": "https://localhost:8080/",
          "height": 36
        },
        "outputId": "91521363-dc6b-4c9e-e1cf-a777345a2dfd"
      },
      "source": [
        "from google.colab import drive\n",
        "drive.mount('/content/gdrive')\n",
        "root_dir = '/content/gdrive/My Drive/cifar10'"
      ],
      "execution_count": 1,
      "outputs": [
        {
          "output_type": "stream",
          "text": [
            "Drive already mounted at /content/gdrive; to attempt to forcibly remount, call drive.mount(\"/content/gdrive\", force_remount=True).\n"
          ],
          "name": "stdout"
        }
      ]
    },
    {
      "cell_type": "markdown",
      "metadata": {
        "colab_type": "text",
        "id": "PYxWfgterKln"
      },
      "source": [
        "### **Import Keras necessary package**\n",
        "\n",
        "> Indented block\n",
        "\n"
      ]
    },
    {
      "cell_type": "code",
      "metadata": {
        "colab_type": "code",
        "id": "529l2_pZqlV_",
        "colab": {}
      },
      "source": [
        "import os\n",
        "\n",
        "import numpy as np\n",
        "import matplotlib.pyplot as plt\n",
        "\n",
        "from tensorflow.keras import Sequential\n",
        "from tensorflow.keras.layers import Conv2D, Activation, MaxPooling2D, BatchNormalization, Dropout, Flatten, Dense\n",
        "from tensorflow.keras.regularizers import l2\n",
        "from tensorflow.keras.optimizers import Adagrad, RMSprop, SGD\n",
        "from tensorflow.keras.callbacks import ModelCheckpoint, LearningRateScheduler\n",
        "from tensorflow.keras.models import load_model\n",
        "from tensorflow.keras.datasets import cifar10\n",
        "from tensorflow.keras.utils import to_categorical, model_to_dot\n",
        "from tensorflow.keras.preprocessing.image import ImageDataGenerator\n",
        "\n",
        "from IPython.display import SVG"
      ],
      "execution_count": 0,
      "outputs": []
    },
    {
      "cell_type": "markdown",
      "metadata": {
        "colab_type": "text",
        "id": "i0VKNZJmrosD"
      },
      "source": [
        "### **Define all settings**"
      ]
    },
    {
      "cell_type": "code",
      "metadata": {
        "colab_type": "code",
        "id": "RLD6LRJEramW",
        "colab": {}
      },
      "source": [
        "num_classes = 10\n",
        "data_augmentation = True"
      ],
      "execution_count": 0,
      "outputs": []
    },
    {
      "cell_type": "code",
      "metadata": {
        "id": "amSBvyN0-CNy",
        "colab_type": "code",
        "colab": {}
      },
      "source": [
        "save_dir = os.path.join(os.getcwd(), 'saved_models')\n",
        "model_name = 'keras_cifar10_trained_model.h5'\n",
        "\n",
        "if not os.path.isdir(save_dir):\n",
        "   os.makedirs(save_dir)\n",
        "\n",
        "model_path = os.path.join(save_dir, model_name)"
      ],
      "execution_count": 0,
      "outputs": []
    },
    {
      "cell_type": "markdown",
      "metadata": {
        "colab_type": "text",
        "id": "WAwBwoTUryi7"
      },
      "source": [
        "### **The data, split between train and test sets:**"
      ]
    },
    {
      "cell_type": "code",
      "metadata": {
        "colab_type": "code",
        "id": "enJGoKdHr615",
        "outputId": "15e8c7f3-9ae0-47ad-c5b4-3de27beaad62",
        "colab": {
          "base_uri": "https://localhost:8080/",
          "height": 36
        }
      },
      "source": [
        "(x_train, y_train), (x_test, y_test) = cifar10.load_data()\n",
        "\n",
        "x_train.shape, x_test.shape"
      ],
      "execution_count": 5,
      "outputs": [
        {
          "output_type": "execute_result",
          "data": {
            "text/plain": [
              "((50000, 32, 32, 3), (10000, 32, 32, 3))"
            ]
          },
          "metadata": {
            "tags": []
          },
          "execution_count": 5
        }
      ]
    },
    {
      "cell_type": "markdown",
      "metadata": {
        "colab_type": "text",
        "id": "nF_eS_EDr_n-"
      },
      "source": [
        "### **Convert class vectors to binary class matrices.**"
      ]
    },
    {
      "cell_type": "code",
      "metadata": {
        "colab_type": "code",
        "id": "bXikkyTEsFMJ",
        "outputId": "9bd0a66c-42f4-4ddd-bfc0-921830f81f7f",
        "colab": {
          "base_uri": "https://localhost:8080/",
          "height": 36
        }
      },
      "source": [
        "y_train = to_categorical(y_train, num_classes)\n",
        "y_test = to_categorical(y_test, num_classes)\n",
        "\n",
        "y_train.shape, y_test.shape"
      ],
      "execution_count": 6,
      "outputs": [
        {
          "output_type": "execute_result",
          "data": {
            "text/plain": [
              "((50000, 10), (10000, 10))"
            ]
          },
          "metadata": {
            "tags": []
          },
          "execution_count": 6
        }
      ]
    },
    {
      "cell_type": "markdown",
      "metadata": {
        "colab_type": "text",
        "id": "ZYuSLIfpsJoe"
      },
      "source": [
        "### **Define CNN architecture**"
      ]
    },
    {
      "cell_type": "code",
      "metadata": {
        "id": "cjth0uqjO6to",
        "colab_type": "code",
        "colab": {}
      },
      "source": [
        "model = Sequential()\n",
        "model.add(Conv2D(16, kernel_size=(3,3), padding='same', activation='relu', kernel_regularizer=l2(1e-4), input_shape=x_train.shape[1:]))\n",
        "model.add(BatchNormalization())\n",
        "model.add(Conv2D(16, kernel_size=(3,3), padding='same', activation='relu', kernel_regularizer=l2(1e-4)))\n",
        "model.add(BatchNormalization())\n",
        "model.add(MaxPooling2D(pool_size=(2,2)))\n",
        "model.add(Dropout(0.1))\n",
        " \n",
        "model.add(Conv2D(32, kernel_size=(3,3), padding='same', activation='relu', kernel_regularizer=l2(1e-4)))\n",
        "model.add(BatchNormalization())\n",
        "model.add(Conv2D(32, kernel_size=(3,3), padding='same', activation='relu', kernel_regularizer=l2(1e-4)))\n",
        "model.add(BatchNormalization())\n",
        "model.add(MaxPooling2D(pool_size=(2,2)))\n",
        "model.add(Dropout(0.2))\n",
        " \n",
        "model.add(Conv2D(64, kernel_size=(3,3), padding='same', activation='relu', kernel_regularizer=l2(1e-4)))\n",
        "model.add(BatchNormalization())\n",
        "model.add(Conv2D(64, kernel_size=(3,3), padding='same', activation='relu', kernel_regularizer=l2(1e-4)))\n",
        "model.add(BatchNormalization())\n",
        "model.add(MaxPooling2D(pool_size=(2,2)))\n",
        "model.add(Dropout(0.3))\n",
        " \n",
        "model.add(Flatten())\n",
        "model.add(Dense(num_classes, activation='softmax'))"
      ],
      "execution_count": 0,
      "outputs": []
    },
    {
      "cell_type": "markdown",
      "metadata": {
        "colab_type": "text",
        "id": "USweZxIdsZcl"
      },
      "source": [
        "### **Model compilation**"
      ]
    },
    {
      "cell_type": "code",
      "metadata": {
        "colab_type": "code",
        "id": "Ha6vRS1islZd",
        "outputId": "e6b4b55f-cf1e-4311-ee11-2b08312b7b65",
        "colab": {
          "base_uri": "https://localhost:8080/",
          "height": 947
        }
      },
      "source": [
        "lr = 0.001\n",
        "decay = 1e-6\n",
        "\n",
        "optimizer = RMSprop(lr=lr, decay=decay)\n",
        "model.compile(loss='categorical_crossentropy',\n",
        "              optimizer=optimizer,\n",
        "              metrics=['accuracy'])\n",
        "\n",
        "model.summary()"
      ],
      "execution_count": 17,
      "outputs": [
        {
          "output_type": "stream",
          "text": [
            "Model: \"sequential\"\n",
            "_________________________________________________________________\n",
            "Layer (type)                 Output Shape              Param #   \n",
            "=================================================================\n",
            "conv2d (Conv2D)              (None, 32, 32, 16)        448       \n",
            "_________________________________________________________________\n",
            "batch_normalization (BatchNo (None, 32, 32, 16)        64        \n",
            "_________________________________________________________________\n",
            "conv2d_1 (Conv2D)            (None, 32, 32, 16)        2320      \n",
            "_________________________________________________________________\n",
            "batch_normalization_1 (Batch (None, 32, 32, 16)        64        \n",
            "_________________________________________________________________\n",
            "max_pooling2d (MaxPooling2D) (None, 16, 16, 16)        0         \n",
            "_________________________________________________________________\n",
            "dropout (Dropout)            (None, 16, 16, 16)        0         \n",
            "_________________________________________________________________\n",
            "conv2d_2 (Conv2D)            (None, 16, 16, 32)        4640      \n",
            "_________________________________________________________________\n",
            "batch_normalization_2 (Batch (None, 16, 16, 32)        128       \n",
            "_________________________________________________________________\n",
            "conv2d_3 (Conv2D)            (None, 16, 16, 32)        9248      \n",
            "_________________________________________________________________\n",
            "batch_normalization_3 (Batch (None, 16, 16, 32)        128       \n",
            "_________________________________________________________________\n",
            "max_pooling2d_1 (MaxPooling2 (None, 8, 8, 32)          0         \n",
            "_________________________________________________________________\n",
            "dropout_1 (Dropout)          (None, 8, 8, 32)          0         \n",
            "_________________________________________________________________\n",
            "conv2d_4 (Conv2D)            (None, 8, 8, 64)          18496     \n",
            "_________________________________________________________________\n",
            "batch_normalization_4 (Batch (None, 8, 8, 64)          256       \n",
            "_________________________________________________________________\n",
            "conv2d_5 (Conv2D)            (None, 8, 8, 64)          36928     \n",
            "_________________________________________________________________\n",
            "batch_normalization_5 (Batch (None, 8, 8, 64)          256       \n",
            "_________________________________________________________________\n",
            "max_pooling2d_2 (MaxPooling2 (None, 4, 4, 64)          0         \n",
            "_________________________________________________________________\n",
            "dropout_2 (Dropout)          (None, 4, 4, 64)          0         \n",
            "_________________________________________________________________\n",
            "flatten (Flatten)            (None, 1024)              0         \n",
            "_________________________________________________________________\n",
            "dense (Dense)                (None, 10)                10250     \n",
            "=================================================================\n",
            "Total params: 83,226\n",
            "Trainable params: 82,778\n",
            "Non-trainable params: 448\n",
            "_________________________________________________________________\n"
          ],
          "name": "stdout"
        }
      ]
    },
    {
      "cell_type": "code",
      "metadata": {
        "id": "pStk0lNWkPm7",
        "colab_type": "code",
        "colab": {
          "base_uri": "https://localhost:8080/",
          "height": 1000
        },
        "outputId": "33a7b347-bc7b-4e68-9caa-371e5048192b"
      },
      "source": [
        "SVG(model_to_dot(model).create(prog='dot', format='svg'))"
      ],
      "execution_count": 21,
      "outputs": [
        {
          "output_type": "execute_result",
          "data": {
            "text/plain": [
              "<IPython.core.display.SVG object>"
            ],
            "image/svg+xml": "<svg height=\"2007pt\" viewBox=\"0.00 0.00 279.00 1505.00\" width=\"372pt\" xmlns=\"http://www.w3.org/2000/svg\" xmlns:xlink=\"http://www.w3.org/1999/xlink\">\n<g class=\"graph\" id=\"graph0\" transform=\"scale(1.3333 1.3333) rotate(0) translate(4 1501)\">\n<title>G</title>\n<polygon fill=\"#ffffff\" points=\"-4,4 -4,-1501 275,-1501 275,4 -4,4\" stroke=\"transparent\"/>\n<!-- 139645430999248 -->\n<g class=\"node\" id=\"node1\">\n<title>139645430999248</title>\n<polygon fill=\"none\" points=\"51,-1460.5 51,-1496.5 220,-1496.5 220,-1460.5 51,-1460.5\" stroke=\"#000000\"/>\n<text fill=\"#000000\" font-family=\"Times,serif\" font-size=\"14.00\" text-anchor=\"middle\" x=\"135.5\" y=\"-1474.8\">conv2d_input: InputLayer</text>\n</g>\n<!-- 139645430839672 -->\n<g class=\"node\" id=\"node2\">\n<title>139645430839672</title>\n<polygon fill=\"none\" points=\"76.5,-1387.5 76.5,-1423.5 194.5,-1423.5 194.5,-1387.5 76.5,-1387.5\" stroke=\"#000000\"/>\n<text fill=\"#000000\" font-family=\"Times,serif\" font-size=\"14.00\" text-anchor=\"middle\" x=\"135.5\" y=\"-1401.8\">conv2d: Conv2D</text>\n</g>\n<!-- 139645430999248&#45;&gt;139645430839672 -->\n<g class=\"edge\" id=\"edge1\">\n<title>139645430999248-&gt;139645430839672</title>\n<path d=\"M135.5,-1460.4551C135.5,-1452.3828 135.5,-1442.6764 135.5,-1433.6817\" fill=\"none\" stroke=\"#000000\"/>\n<polygon fill=\"#000000\" points=\"139.0001,-1433.5903 135.5,-1423.5904 132.0001,-1433.5904 139.0001,-1433.5903\" stroke=\"#000000\"/>\n</g>\n<!-- 139648487370824 -->\n<g class=\"node\" id=\"node3\">\n<title>139648487370824</title>\n<polygon fill=\"none\" points=\"7.5,-1314.5 7.5,-1350.5 263.5,-1350.5 263.5,-1314.5 7.5,-1314.5\" stroke=\"#000000\"/>\n<text fill=\"#000000\" font-family=\"Times,serif\" font-size=\"14.00\" text-anchor=\"middle\" x=\"135.5\" y=\"-1328.8\">batch_normalization: BatchNormalization</text>\n</g>\n<!-- 139645430839672&#45;&gt;139648487370824 -->\n<g class=\"edge\" id=\"edge2\">\n<title>139645430839672-&gt;139648487370824</title>\n<path d=\"M135.5,-1387.4551C135.5,-1379.3828 135.5,-1369.6764 135.5,-1360.6817\" fill=\"none\" stroke=\"#000000\"/>\n<polygon fill=\"#000000\" points=\"139.0001,-1360.5903 135.5,-1350.5904 132.0001,-1360.5904 139.0001,-1360.5903\" stroke=\"#000000\"/>\n</g>\n<!-- 139645431064336 -->\n<g class=\"node\" id=\"node4\">\n<title>139645431064336</title>\n<polygon fill=\"none\" points=\"69,-1241.5 69,-1277.5 202,-1277.5 202,-1241.5 69,-1241.5\" stroke=\"#000000\"/>\n<text fill=\"#000000\" font-family=\"Times,serif\" font-size=\"14.00\" text-anchor=\"middle\" x=\"135.5\" y=\"-1255.8\">conv2d_1: Conv2D</text>\n</g>\n<!-- 139648487370824&#45;&gt;139645431064336 -->\n<g class=\"edge\" id=\"edge3\">\n<title>139648487370824-&gt;139645431064336</title>\n<path d=\"M135.5,-1314.4551C135.5,-1306.3828 135.5,-1296.6764 135.5,-1287.6817\" fill=\"none\" stroke=\"#000000\"/>\n<polygon fill=\"#000000\" points=\"139.0001,-1287.5903 135.5,-1277.5904 132.0001,-1287.5904 139.0001,-1287.5903\" stroke=\"#000000\"/>\n</g>\n<!-- 139645431022872 -->\n<g class=\"node\" id=\"node5\">\n<title>139645431022872</title>\n<polygon fill=\"none\" points=\"0,-1168.5 0,-1204.5 271,-1204.5 271,-1168.5 0,-1168.5\" stroke=\"#000000\"/>\n<text fill=\"#000000\" font-family=\"Times,serif\" font-size=\"14.00\" text-anchor=\"middle\" x=\"135.5\" y=\"-1182.8\">batch_normalization_1: BatchNormalization</text>\n</g>\n<!-- 139645431064336&#45;&gt;139645431022872 -->\n<g class=\"edge\" id=\"edge4\">\n<title>139645431064336-&gt;139645431022872</title>\n<path d=\"M135.5,-1241.4551C135.5,-1233.3828 135.5,-1223.6764 135.5,-1214.6817\" fill=\"none\" stroke=\"#000000\"/>\n<polygon fill=\"#000000\" points=\"139.0001,-1214.5903 135.5,-1204.5904 132.0001,-1214.5904 139.0001,-1214.5903\" stroke=\"#000000\"/>\n</g>\n<!-- 139645430804832 -->\n<g class=\"node\" id=\"node6\">\n<title>139645430804832</title>\n<polygon fill=\"none\" points=\"32.5,-1095.5 32.5,-1131.5 238.5,-1131.5 238.5,-1095.5 32.5,-1095.5\" stroke=\"#000000\"/>\n<text fill=\"#000000\" font-family=\"Times,serif\" font-size=\"14.00\" text-anchor=\"middle\" x=\"135.5\" y=\"-1109.8\">max_pooling2d: MaxPooling2D</text>\n</g>\n<!-- 139645431022872&#45;&gt;139645430804832 -->\n<g class=\"edge\" id=\"edge5\">\n<title>139645431022872-&gt;139645430804832</title>\n<path d=\"M135.5,-1168.4551C135.5,-1160.3828 135.5,-1150.6764 135.5,-1141.6817\" fill=\"none\" stroke=\"#000000\"/>\n<polygon fill=\"#000000\" points=\"139.0001,-1141.5903 135.5,-1131.5904 132.0001,-1141.5904 139.0001,-1141.5903\" stroke=\"#000000\"/>\n</g>\n<!-- 139645431024496 -->\n<g class=\"node\" id=\"node7\">\n<title>139645431024496</title>\n<polygon fill=\"none\" points=\"76,-1022.5 76,-1058.5 195,-1058.5 195,-1022.5 76,-1022.5\" stroke=\"#000000\"/>\n<text fill=\"#000000\" font-family=\"Times,serif\" font-size=\"14.00\" text-anchor=\"middle\" x=\"135.5\" y=\"-1036.8\">dropout: Dropout</text>\n</g>\n<!-- 139645430804832&#45;&gt;139645431024496 -->\n<g class=\"edge\" id=\"edge6\">\n<title>139645430804832-&gt;139645431024496</title>\n<path d=\"M135.5,-1095.4551C135.5,-1087.3828 135.5,-1077.6764 135.5,-1068.6817\" fill=\"none\" stroke=\"#000000\"/>\n<polygon fill=\"#000000\" points=\"139.0001,-1068.5903 135.5,-1058.5904 132.0001,-1068.5904 139.0001,-1068.5903\" stroke=\"#000000\"/>\n</g>\n<!-- 139645426128264 -->\n<g class=\"node\" id=\"node8\">\n<title>139645426128264</title>\n<polygon fill=\"none\" points=\"69,-949.5 69,-985.5 202,-985.5 202,-949.5 69,-949.5\" stroke=\"#000000\"/>\n<text fill=\"#000000\" font-family=\"Times,serif\" font-size=\"14.00\" text-anchor=\"middle\" x=\"135.5\" y=\"-963.8\">conv2d_2: Conv2D</text>\n</g>\n<!-- 139645431024496&#45;&gt;139645426128264 -->\n<g class=\"edge\" id=\"edge7\">\n<title>139645431024496-&gt;139645426128264</title>\n<path d=\"M135.5,-1022.4551C135.5,-1014.3828 135.5,-1004.6764 135.5,-995.6817\" fill=\"none\" stroke=\"#000000\"/>\n<polygon fill=\"#000000\" points=\"139.0001,-995.5903 135.5,-985.5904 132.0001,-995.5904 139.0001,-995.5903\" stroke=\"#000000\"/>\n</g>\n<!-- 139645426189312 -->\n<g class=\"node\" id=\"node9\">\n<title>139645426189312</title>\n<polygon fill=\"none\" points=\"0,-876.5 0,-912.5 271,-912.5 271,-876.5 0,-876.5\" stroke=\"#000000\"/>\n<text fill=\"#000000\" font-family=\"Times,serif\" font-size=\"14.00\" text-anchor=\"middle\" x=\"135.5\" y=\"-890.8\">batch_normalization_2: BatchNormalization</text>\n</g>\n<!-- 139645426128264&#45;&gt;139645426189312 -->\n<g class=\"edge\" id=\"edge8\">\n<title>139645426128264-&gt;139645426189312</title>\n<path d=\"M135.5,-949.4551C135.5,-941.3828 135.5,-931.6764 135.5,-922.6817\" fill=\"none\" stroke=\"#000000\"/>\n<polygon fill=\"#000000\" points=\"139.0001,-922.5903 135.5,-912.5904 132.0001,-922.5904 139.0001,-922.5903\" stroke=\"#000000\"/>\n</g>\n<!-- 139645426214056 -->\n<g class=\"node\" id=\"node10\">\n<title>139645426214056</title>\n<polygon fill=\"none\" points=\"69,-803.5 69,-839.5 202,-839.5 202,-803.5 69,-803.5\" stroke=\"#000000\"/>\n<text fill=\"#000000\" font-family=\"Times,serif\" font-size=\"14.00\" text-anchor=\"middle\" x=\"135.5\" y=\"-817.8\">conv2d_3: Conv2D</text>\n</g>\n<!-- 139645426189312&#45;&gt;139645426214056 -->\n<g class=\"edge\" id=\"edge9\">\n<title>139645426189312-&gt;139645426214056</title>\n<path d=\"M135.5,-876.4551C135.5,-868.3828 135.5,-858.6764 135.5,-849.6817\" fill=\"none\" stroke=\"#000000\"/>\n<polygon fill=\"#000000\" points=\"139.0001,-849.5903 135.5,-839.5904 132.0001,-849.5904 139.0001,-849.5903\" stroke=\"#000000\"/>\n</g>\n<!-- 139645003822584 -->\n<g class=\"node\" id=\"node11\">\n<title>139645003822584</title>\n<polygon fill=\"none\" points=\"0,-730.5 0,-766.5 271,-766.5 271,-730.5 0,-730.5\" stroke=\"#000000\"/>\n<text fill=\"#000000\" font-family=\"Times,serif\" font-size=\"14.00\" text-anchor=\"middle\" x=\"135.5\" y=\"-744.8\">batch_normalization_3: BatchNormalization</text>\n</g>\n<!-- 139645426214056&#45;&gt;139645003822584 -->\n<g class=\"edge\" id=\"edge10\">\n<title>139645426214056-&gt;139645003822584</title>\n<path d=\"M135.5,-803.4551C135.5,-795.3828 135.5,-785.6764 135.5,-776.6817\" fill=\"none\" stroke=\"#000000\"/>\n<polygon fill=\"#000000\" points=\"139.0001,-776.5903 135.5,-766.5904 132.0001,-776.5904 139.0001,-776.5903\" stroke=\"#000000\"/>\n</g>\n<!-- 139645003843232 -->\n<g class=\"node\" id=\"node12\">\n<title>139645003843232</title>\n<polygon fill=\"none\" points=\"25,-657.5 25,-693.5 246,-693.5 246,-657.5 25,-657.5\" stroke=\"#000000\"/>\n<text fill=\"#000000\" font-family=\"Times,serif\" font-size=\"14.00\" text-anchor=\"middle\" x=\"135.5\" y=\"-671.8\">max_pooling2d_1: MaxPooling2D</text>\n</g>\n<!-- 139645003822584&#45;&gt;139645003843232 -->\n<g class=\"edge\" id=\"edge11\">\n<title>139645003822584-&gt;139645003843232</title>\n<path d=\"M135.5,-730.4551C135.5,-722.3828 135.5,-712.6764 135.5,-703.6817\" fill=\"none\" stroke=\"#000000\"/>\n<polygon fill=\"#000000\" points=\"139.0001,-703.5903 135.5,-693.5904 132.0001,-703.5904 139.0001,-703.5903\" stroke=\"#000000\"/>\n</g>\n<!-- 139645003982944 -->\n<g class=\"node\" id=\"node13\">\n<title>139645003982944</title>\n<polygon fill=\"none\" points=\"68.5,-584.5 68.5,-620.5 202.5,-620.5 202.5,-584.5 68.5,-584.5\" stroke=\"#000000\"/>\n<text fill=\"#000000\" font-family=\"Times,serif\" font-size=\"14.00\" text-anchor=\"middle\" x=\"135.5\" y=\"-598.8\">dropout_1: Dropout</text>\n</g>\n<!-- 139645003843232&#45;&gt;139645003982944 -->\n<g class=\"edge\" id=\"edge12\">\n<title>139645003843232-&gt;139645003982944</title>\n<path d=\"M135.5,-657.4551C135.5,-649.3828 135.5,-639.6764 135.5,-630.6817\" fill=\"none\" stroke=\"#000000\"/>\n<polygon fill=\"#000000\" points=\"139.0001,-630.5903 135.5,-620.5904 132.0001,-630.5904 139.0001,-630.5903\" stroke=\"#000000\"/>\n</g>\n<!-- 139645003983168 -->\n<g class=\"node\" id=\"node14\">\n<title>139645003983168</title>\n<polygon fill=\"none\" points=\"69,-511.5 69,-547.5 202,-547.5 202,-511.5 69,-511.5\" stroke=\"#000000\"/>\n<text fill=\"#000000\" font-family=\"Times,serif\" font-size=\"14.00\" text-anchor=\"middle\" x=\"135.5\" y=\"-525.8\">conv2d_4: Conv2D</text>\n</g>\n<!-- 139645003982944&#45;&gt;139645003983168 -->\n<g class=\"edge\" id=\"edge13\">\n<title>139645003982944-&gt;139645003983168</title>\n<path d=\"M135.5,-584.4551C135.5,-576.3828 135.5,-566.6764 135.5,-557.6817\" fill=\"none\" stroke=\"#000000\"/>\n<polygon fill=\"#000000\" points=\"139.0001,-557.5903 135.5,-547.5904 132.0001,-557.5904 139.0001,-557.5903\" stroke=\"#000000\"/>\n</g>\n<!-- 139645003532944 -->\n<g class=\"node\" id=\"node15\">\n<title>139645003532944</title>\n<polygon fill=\"none\" points=\"0,-438.5 0,-474.5 271,-474.5 271,-438.5 0,-438.5\" stroke=\"#000000\"/>\n<text fill=\"#000000\" font-family=\"Times,serif\" font-size=\"14.00\" text-anchor=\"middle\" x=\"135.5\" y=\"-452.8\">batch_normalization_4: BatchNormalization</text>\n</g>\n<!-- 139645003983168&#45;&gt;139645003532944 -->\n<g class=\"edge\" id=\"edge14\">\n<title>139645003983168-&gt;139645003532944</title>\n<path d=\"M135.5,-511.4551C135.5,-503.3828 135.5,-493.6764 135.5,-484.6817\" fill=\"none\" stroke=\"#000000\"/>\n<polygon fill=\"#000000\" points=\"139.0001,-484.5903 135.5,-474.5904 132.0001,-484.5904 139.0001,-484.5903\" stroke=\"#000000\"/>\n</g>\n<!-- 139645003565936 -->\n<g class=\"node\" id=\"node16\">\n<title>139645003565936</title>\n<polygon fill=\"none\" points=\"69,-365.5 69,-401.5 202,-401.5 202,-365.5 69,-365.5\" stroke=\"#000000\"/>\n<text fill=\"#000000\" font-family=\"Times,serif\" font-size=\"14.00\" text-anchor=\"middle\" x=\"135.5\" y=\"-379.8\">conv2d_5: Conv2D</text>\n</g>\n<!-- 139645003532944&#45;&gt;139645003565936 -->\n<g class=\"edge\" id=\"edge15\">\n<title>139645003532944-&gt;139645003565936</title>\n<path d=\"M135.5,-438.4551C135.5,-430.3828 135.5,-420.6764 135.5,-411.6817\" fill=\"none\" stroke=\"#000000\"/>\n<polygon fill=\"#000000\" points=\"139.0001,-411.5903 135.5,-401.5904 132.0001,-411.5904 139.0001,-411.5903\" stroke=\"#000000\"/>\n</g>\n<!-- 139645003713672 -->\n<g class=\"node\" id=\"node17\">\n<title>139645003713672</title>\n<polygon fill=\"none\" points=\"0,-292.5 0,-328.5 271,-328.5 271,-292.5 0,-292.5\" stroke=\"#000000\"/>\n<text fill=\"#000000\" font-family=\"Times,serif\" font-size=\"14.00\" text-anchor=\"middle\" x=\"135.5\" y=\"-306.8\">batch_normalization_5: BatchNormalization</text>\n</g>\n<!-- 139645003565936&#45;&gt;139645003713672 -->\n<g class=\"edge\" id=\"edge16\">\n<title>139645003565936-&gt;139645003713672</title>\n<path d=\"M135.5,-365.4551C135.5,-357.3828 135.5,-347.6764 135.5,-338.6817\" fill=\"none\" stroke=\"#000000\"/>\n<polygon fill=\"#000000\" points=\"139.0001,-338.5903 135.5,-328.5904 132.0001,-338.5904 139.0001,-338.5903\" stroke=\"#000000\"/>\n</g>\n<!-- 139645003738080 -->\n<g class=\"node\" id=\"node18\">\n<title>139645003738080</title>\n<polygon fill=\"none\" points=\"25,-219.5 25,-255.5 246,-255.5 246,-219.5 25,-219.5\" stroke=\"#000000\"/>\n<text fill=\"#000000\" font-family=\"Times,serif\" font-size=\"14.00\" text-anchor=\"middle\" x=\"135.5\" y=\"-233.8\">max_pooling2d_2: MaxPooling2D</text>\n</g>\n<!-- 139645003713672&#45;&gt;139645003738080 -->\n<g class=\"edge\" id=\"edge17\">\n<title>139645003713672-&gt;139645003738080</title>\n<path d=\"M135.5,-292.4551C135.5,-284.3828 135.5,-274.6764 135.5,-265.6817\" fill=\"none\" stroke=\"#000000\"/>\n<polygon fill=\"#000000\" points=\"139.0001,-265.5903 135.5,-255.5904 132.0001,-265.5904 139.0001,-265.5903\" stroke=\"#000000\"/>\n</g>\n<!-- 139645003378024 -->\n<g class=\"node\" id=\"node19\">\n<title>139645003378024</title>\n<polygon fill=\"none\" points=\"68.5,-146.5 68.5,-182.5 202.5,-182.5 202.5,-146.5 68.5,-146.5\" stroke=\"#000000\"/>\n<text fill=\"#000000\" font-family=\"Times,serif\" font-size=\"14.00\" text-anchor=\"middle\" x=\"135.5\" y=\"-160.8\">dropout_2: Dropout</text>\n</g>\n<!-- 139645003738080&#45;&gt;139645003378024 -->\n<g class=\"edge\" id=\"edge18\">\n<title>139645003738080-&gt;139645003378024</title>\n<path d=\"M135.5,-219.4551C135.5,-211.3828 135.5,-201.6764 135.5,-192.6817\" fill=\"none\" stroke=\"#000000\"/>\n<polygon fill=\"#000000\" points=\"139.0001,-192.5903 135.5,-182.5904 132.0001,-192.5904 139.0001,-192.5903\" stroke=\"#000000\"/>\n</g>\n<!-- 139645003378416 -->\n<g class=\"node\" id=\"node20\">\n<title>139645003378416</title>\n<polygon fill=\"none\" points=\"86.5,-73.5 86.5,-109.5 184.5,-109.5 184.5,-73.5 86.5,-73.5\" stroke=\"#000000\"/>\n<text fill=\"#000000\" font-family=\"Times,serif\" font-size=\"14.00\" text-anchor=\"middle\" x=\"135.5\" y=\"-87.8\">flatten: Flatten</text>\n</g>\n<!-- 139645003378024&#45;&gt;139645003378416 -->\n<g class=\"edge\" id=\"edge19\">\n<title>139645003378024-&gt;139645003378416</title>\n<path d=\"M135.5,-146.4551C135.5,-138.3828 135.5,-128.6764 135.5,-119.6817\" fill=\"none\" stroke=\"#000000\"/>\n<polygon fill=\"#000000\" points=\"139.0001,-119.5903 135.5,-109.5904 132.0001,-119.5904 139.0001,-119.5903\" stroke=\"#000000\"/>\n</g>\n<!-- 139645003378528 -->\n<g class=\"node\" id=\"node21\">\n<title>139645003378528</title>\n<polygon fill=\"none\" points=\"89.5,-.5 89.5,-36.5 181.5,-36.5 181.5,-.5 89.5,-.5\" stroke=\"#000000\"/>\n<text fill=\"#000000\" font-family=\"Times,serif\" font-size=\"14.00\" text-anchor=\"middle\" x=\"135.5\" y=\"-14.8\">dense: Dense</text>\n</g>\n<!-- 139645003378416&#45;&gt;139645003378528 -->\n<g class=\"edge\" id=\"edge20\">\n<title>139645003378416-&gt;139645003378528</title>\n<path d=\"M135.5,-73.4551C135.5,-65.3828 135.5,-55.6764 135.5,-46.6817\" fill=\"none\" stroke=\"#000000\"/>\n<polygon fill=\"#000000\" points=\"139.0001,-46.5903 135.5,-36.5904 132.0001,-46.5904 139.0001,-46.5903\" stroke=\"#000000\"/>\n</g>\n</g>\n</svg>"
          },
          "metadata": {
            "tags": []
          },
          "execution_count": 21
        }
      ]
    },
    {
      "cell_type": "markdown",
      "metadata": {
        "colab_type": "text",
        "id": "zdSFMzFZsqFt"
      },
      "source": [
        "### **Data augmentation**"
      ]
    },
    {
      "cell_type": "code",
      "metadata": {
        "colab_type": "code",
        "id": "FSjNgs7_suFl",
        "outputId": "af76b4b8-f1eb-4f0d-9660-4cc27257914a",
        "colab": {
          "base_uri": "https://localhost:8080/",
          "height": 56
        }
      },
      "source": [
        "x_train = x_train.astype('float32')\n",
        "x_test = x_test.astype('float32')\n",
        "x_train /= 255\n",
        "x_test /= 255\n",
        "\n",
        "#z-score\n",
        "mean = np.mean(x_train,axis=(0,1,2,3))\n",
        "std = np.std(x_train,axis=(0,1,2,3))\n",
        "x_train = (x_train-mean)/(std+1e-7)\n",
        "x_test = (x_test-mean)/(std+1e-7)\n",
        "\n",
        "if not data_augmentation:\n",
        "    print('Not using data augmentation.')\n",
        "    model.fit(x_train, y_train,\n",
        "              batch_size=batch_size,\n",
        "              epochs=epochs,\n",
        "              validation_data=(x_test, y_test),\n",
        "              shuffle=True)\n",
        "else:\n",
        "    print('Using real-time data augmentation.')\n",
        "    # datagen = ImageDataGenerator(\n",
        "    #     featurewise_center=True,\n",
        "    #     featurewise_std_normalization=True,\n",
        "    #     #rotation_range=20,\n",
        "    #     #width_shift_range=0.2,\n",
        "    #     #height_shift_range=0.2,\n",
        "    #     #horizontal_flip=True,\n",
        "    # )\n",
        "\n",
        "    datagen = ImageDataGenerator(\n",
        "        rotation_range=15,\n",
        "        width_shift_range=0.1,\n",
        "        height_shift_range=0.1,\n",
        "        horizontal_flip=True,\n",
        "    )\n",
        "\n",
        "    datagen.fit(x_train)\n",
        "\n",
        "x_train.shape, x_test.shape"
      ],
      "execution_count": 9,
      "outputs": [
        {
          "output_type": "stream",
          "text": [
            "Using real-time data augmentation.\n"
          ],
          "name": "stdout"
        },
        {
          "output_type": "execute_result",
          "data": {
            "text/plain": [
              "((50000, 32, 32, 3), (10000, 32, 32, 3))"
            ]
          },
          "metadata": {
            "tags": []
          },
          "execution_count": 9
        }
      ]
    },
    {
      "cell_type": "markdown",
      "metadata": {
        "colab_type": "text",
        "id": "LvUOGdfHtf2_"
      },
      "source": [
        "### **Train the model**"
      ]
    },
    {
      "cell_type": "code",
      "metadata": {
        "id": "SOaVZAfr39pC",
        "colab_type": "code",
        "colab": {}
      },
      "source": [
        "def lr_schedule(epoch):\n",
        "    lrate = lr\n",
        "    if epoch > 50:\n",
        "        lrate = 0.0005\n",
        "    if epoch > 75:\n",
        "        lrate = 0.0003\n",
        "    return lrate"
      ],
      "execution_count": 0,
      "outputs": []
    },
    {
      "cell_type": "code",
      "metadata": {
        "colab_type": "code",
        "id": "WZVfUipbto0F",
        "outputId": "0189faf8-3ed5-42fd-b11c-ad71241cb3c6",
        "colab": {
          "base_uri": "https://localhost:8080/",
          "height": 1000
        }
      },
      "source": [
        "batch_size = 64\n",
        "epochs = 100\n",
        "\n",
        "model_checkpoint = ModelCheckpoint(model_path, verbose=1, monitor='val_accuracy',save_best_only=True, mode='auto') \n",
        "model.fit(datagen.flow(x_train, y_train,\n",
        "                batch_size=batch_size),\n",
        "            steps_per_epoch=x_train.shape[0]//batch_size,\n",
        "            epochs=epochs,\n",
        "            callbacks=[model_checkpoint, LearningRateScheduler(lr_schedule)],\n",
        "            validation_data=(x_test, y_test),\n",
        "            workers=1,)"
      ],
      "execution_count": 11,
      "outputs": [
        {
          "output_type": "stream",
          "text": [
            "Epoch 1/100\n",
            "781/781 [==============================] - ETA: 0s - loss: 1.8125 - accuracy: 0.4069\n",
            "Epoch 00001: val_accuracy improved from -inf to 0.52130, saving model to /content/saved_models/keras_cifar10_trained_model.h5\n",
            "781/781 [==============================] - 35s 45ms/step - loss: 1.8125 - accuracy: 0.4069 - val_loss: 1.4172 - val_accuracy: 0.5213 - lr: 0.0010\n",
            "Epoch 2/100\n",
            "781/781 [==============================] - ETA: 0s - loss: 1.2905 - accuracy: 0.5571\n",
            "Epoch 00002: val_accuracy improved from 0.52130 to 0.61820, saving model to /content/saved_models/keras_cifar10_trained_model.h5\n",
            "781/781 [==============================] - 35s 45ms/step - loss: 1.2905 - accuracy: 0.5571 - val_loss: 1.1342 - val_accuracy: 0.6182 - lr: 0.0010\n",
            "Epoch 3/100\n",
            "781/781 [==============================] - ETA: 0s - loss: 1.1089 - accuracy: 0.6185\n",
            "Epoch 00003: val_accuracy improved from 0.61820 to 0.68320, saving model to /content/saved_models/keras_cifar10_trained_model.h5\n",
            "781/781 [==============================] - 35s 45ms/step - loss: 1.1089 - accuracy: 0.6185 - val_loss: 0.9395 - val_accuracy: 0.6832 - lr: 0.0010\n",
            "Epoch 4/100\n",
            "781/781 [==============================] - ETA: 0s - loss: 1.0108 - accuracy: 0.6539\n",
            "Epoch 00004: val_accuracy improved from 0.68320 to 0.68390, saving model to /content/saved_models/keras_cifar10_trained_model.h5\n",
            "781/781 [==============================] - 35s 45ms/step - loss: 1.0108 - accuracy: 0.6539 - val_loss: 0.9599 - val_accuracy: 0.6839 - lr: 0.0010\n",
            "Epoch 5/100\n",
            "780/781 [============================>.] - ETA: 0s - loss: 0.9411 - accuracy: 0.6808\n",
            "Epoch 00005: val_accuracy improved from 0.68390 to 0.68780, saving model to /content/saved_models/keras_cifar10_trained_model.h5\n",
            "781/781 [==============================] - 35s 45ms/step - loss: 0.9412 - accuracy: 0.6808 - val_loss: 1.0072 - val_accuracy: 0.6878 - lr: 0.0010\n",
            "Epoch 6/100\n",
            "780/781 [============================>.] - ETA: 0s - loss: 0.9020 - accuracy: 0.6974\n",
            "Epoch 00006: val_accuracy improved from 0.68780 to 0.72300, saving model to /content/saved_models/keras_cifar10_trained_model.h5\n",
            "781/781 [==============================] - 35s 44ms/step - loss: 0.9019 - accuracy: 0.6974 - val_loss: 0.8512 - val_accuracy: 0.7230 - lr: 0.0010\n",
            "Epoch 7/100\n",
            "781/781 [==============================] - ETA: 0s - loss: 0.8585 - accuracy: 0.7146\n",
            "Epoch 00007: val_accuracy improved from 0.72300 to 0.74040, saving model to /content/saved_models/keras_cifar10_trained_model.h5\n",
            "781/781 [==============================] - 35s 44ms/step - loss: 0.8585 - accuracy: 0.7146 - val_loss: 0.7966 - val_accuracy: 0.7404 - lr: 0.0010\n",
            "Epoch 8/100\n",
            "781/781 [==============================] - ETA: 0s - loss: 0.8362 - accuracy: 0.7235\n",
            "Epoch 00008: val_accuracy did not improve from 0.74040\n",
            "781/781 [==============================] - 35s 44ms/step - loss: 0.8362 - accuracy: 0.7235 - val_loss: 0.8013 - val_accuracy: 0.7380 - lr: 0.0010\n",
            "Epoch 9/100\n",
            "780/781 [============================>.] - ETA: 0s - loss: 0.8141 - accuracy: 0.7323\n",
            "Epoch 00009: val_accuracy improved from 0.74040 to 0.74220, saving model to /content/saved_models/keras_cifar10_trained_model.h5\n",
            "781/781 [==============================] - 35s 44ms/step - loss: 0.8138 - accuracy: 0.7324 - val_loss: 0.8257 - val_accuracy: 0.7422 - lr: 0.0010\n",
            "Epoch 10/100\n",
            "780/781 [============================>.] - ETA: 0s - loss: 0.7937 - accuracy: 0.7393\n",
            "Epoch 00010: val_accuracy improved from 0.74220 to 0.76990, saving model to /content/saved_models/keras_cifar10_trained_model.h5\n",
            "781/781 [==============================] - 35s 45ms/step - loss: 0.7935 - accuracy: 0.7392 - val_loss: 0.7376 - val_accuracy: 0.7699 - lr: 0.0010\n",
            "Epoch 11/100\n",
            "781/781 [==============================] - ETA: 0s - loss: 0.7774 - accuracy: 0.7467\n",
            "Epoch 00011: val_accuracy did not improve from 0.76990\n",
            "781/781 [==============================] - 35s 45ms/step - loss: 0.7774 - accuracy: 0.7467 - val_loss: 0.7865 - val_accuracy: 0.7508 - lr: 0.0010\n",
            "Epoch 12/100\n",
            "781/781 [==============================] - ETA: 0s - loss: 0.7665 - accuracy: 0.7522\n",
            "Epoch 00012: val_accuracy did not improve from 0.76990\n",
            "781/781 [==============================] - 35s 45ms/step - loss: 0.7665 - accuracy: 0.7522 - val_loss: 0.7780 - val_accuracy: 0.7594 - lr: 0.0010\n",
            "Epoch 13/100\n",
            "780/781 [============================>.] - ETA: 0s - loss: 0.7556 - accuracy: 0.7543\n",
            "Epoch 00013: val_accuracy did not improve from 0.76990\n",
            "781/781 [==============================] - 35s 45ms/step - loss: 0.7557 - accuracy: 0.7544 - val_loss: 0.7939 - val_accuracy: 0.7558 - lr: 0.0010\n",
            "Epoch 14/100\n",
            "781/781 [==============================] - ETA: 0s - loss: 0.7368 - accuracy: 0.7637\n",
            "Epoch 00014: val_accuracy improved from 0.76990 to 0.78230, saving model to /content/saved_models/keras_cifar10_trained_model.h5\n",
            "781/781 [==============================] - 35s 45ms/step - loss: 0.7368 - accuracy: 0.7637 - val_loss: 0.6965 - val_accuracy: 0.7823 - lr: 0.0010\n",
            "Epoch 15/100\n",
            "780/781 [============================>.] - ETA: 0s - loss: 0.7308 - accuracy: 0.7643\n",
            "Epoch 00015: val_accuracy improved from 0.78230 to 0.78930, saving model to /content/saved_models/keras_cifar10_trained_model.h5\n",
            "781/781 [==============================] - 35s 44ms/step - loss: 0.7309 - accuracy: 0.7643 - val_loss: 0.6765 - val_accuracy: 0.7893 - lr: 0.0010\n",
            "Epoch 16/100\n",
            "781/781 [==============================] - ETA: 0s - loss: 0.7254 - accuracy: 0.7684\n",
            "Epoch 00016: val_accuracy improved from 0.78930 to 0.79700, saving model to /content/saved_models/keras_cifar10_trained_model.h5\n",
            "781/781 [==============================] - 35s 45ms/step - loss: 0.7254 - accuracy: 0.7684 - val_loss: 0.6578 - val_accuracy: 0.7970 - lr: 0.0010\n",
            "Epoch 17/100\n",
            "780/781 [============================>.] - ETA: 0s - loss: 0.7159 - accuracy: 0.7718\n",
            "Epoch 00017: val_accuracy did not improve from 0.79700\n",
            "781/781 [==============================] - 35s 45ms/step - loss: 0.7162 - accuracy: 0.7717 - val_loss: 0.7221 - val_accuracy: 0.7831 - lr: 0.0010\n",
            "Epoch 18/100\n",
            "781/781 [==============================] - ETA: 0s - loss: 0.7080 - accuracy: 0.7749\n",
            "Epoch 00018: val_accuracy did not improve from 0.79700\n",
            "781/781 [==============================] - 35s 45ms/step - loss: 0.7080 - accuracy: 0.7749 - val_loss: 0.7368 - val_accuracy: 0.7795 - lr: 0.0010\n",
            "Epoch 19/100\n",
            "780/781 [============================>.] - ETA: 0s - loss: 0.7028 - accuracy: 0.7769\n",
            "Epoch 00019: val_accuracy did not improve from 0.79700\n",
            "781/781 [==============================] - 35s 45ms/step - loss: 0.7031 - accuracy: 0.7768 - val_loss: 0.7066 - val_accuracy: 0.7887 - lr: 0.0010\n",
            "Epoch 20/100\n",
            "781/781 [==============================] - ETA: 0s - loss: 0.7035 - accuracy: 0.7783\n",
            "Epoch 00020: val_accuracy did not improve from 0.79700\n",
            "781/781 [==============================] - 35s 45ms/step - loss: 0.7035 - accuracy: 0.7783 - val_loss: 0.7764 - val_accuracy: 0.7730 - lr: 0.0010\n",
            "Epoch 21/100\n",
            "780/781 [============================>.] - ETA: 0s - loss: 0.6956 - accuracy: 0.7803\n",
            "Epoch 00021: val_accuracy did not improve from 0.79700\n",
            "781/781 [==============================] - 35s 45ms/step - loss: 0.6955 - accuracy: 0.7804 - val_loss: 0.6987 - val_accuracy: 0.7878 - lr: 0.0010\n",
            "Epoch 22/100\n",
            "781/781 [==============================] - ETA: 0s - loss: 0.6894 - accuracy: 0.7840\n",
            "Epoch 00022: val_accuracy did not improve from 0.79700\n",
            "781/781 [==============================] - 35s 44ms/step - loss: 0.6894 - accuracy: 0.7840 - val_loss: 0.7027 - val_accuracy: 0.7844 - lr: 0.0010\n",
            "Epoch 23/100\n",
            "780/781 [============================>.] - ETA: 0s - loss: 0.6902 - accuracy: 0.7826\n",
            "Epoch 00023: val_accuracy did not improve from 0.79700\n",
            "781/781 [==============================] - 34s 43ms/step - loss: 0.6902 - accuracy: 0.7826 - val_loss: 0.7069 - val_accuracy: 0.7850 - lr: 0.0010\n",
            "Epoch 24/100\n",
            "780/781 [============================>.] - ETA: 0s - loss: 0.6822 - accuracy: 0.7856\n",
            "Epoch 00024: val_accuracy improved from 0.79700 to 0.80370, saving model to /content/saved_models/keras_cifar10_trained_model.h5\n",
            "781/781 [==============================] - 34s 43ms/step - loss: 0.6821 - accuracy: 0.7856 - val_loss: 0.6518 - val_accuracy: 0.8037 - lr: 0.0010\n",
            "Epoch 25/100\n",
            "781/781 [==============================] - ETA: 0s - loss: 0.6801 - accuracy: 0.7881\n",
            "Epoch 00025: val_accuracy did not improve from 0.80370\n",
            "781/781 [==============================] - 34s 43ms/step - loss: 0.6801 - accuracy: 0.7881 - val_loss: 0.7128 - val_accuracy: 0.7853 - lr: 0.0010\n",
            "Epoch 26/100\n",
            "780/781 [============================>.] - ETA: 0s - loss: 0.6728 - accuracy: 0.7893\n",
            "Epoch 00026: val_accuracy improved from 0.80370 to 0.81270, saving model to /content/saved_models/keras_cifar10_trained_model.h5\n",
            "781/781 [==============================] - 34s 43ms/step - loss: 0.6727 - accuracy: 0.7893 - val_loss: 0.6390 - val_accuracy: 0.8127 - lr: 0.0010\n",
            "Epoch 27/100\n",
            "781/781 [==============================] - ETA: 0s - loss: 0.6709 - accuracy: 0.7906\n",
            "Epoch 00027: val_accuracy did not improve from 0.81270\n",
            "781/781 [==============================] - 34s 43ms/step - loss: 0.6709 - accuracy: 0.7906 - val_loss: 0.7031 - val_accuracy: 0.7929 - lr: 0.0010\n",
            "Epoch 28/100\n",
            "781/781 [==============================] - ETA: 0s - loss: 0.6678 - accuracy: 0.7925\n",
            "Epoch 00028: val_accuracy did not improve from 0.81270\n",
            "781/781 [==============================] - 34s 43ms/step - loss: 0.6678 - accuracy: 0.7925 - val_loss: 0.6779 - val_accuracy: 0.7991 - lr: 0.0010\n",
            "Epoch 29/100\n",
            "780/781 [============================>.] - ETA: 0s - loss: 0.6722 - accuracy: 0.7932\n",
            "Epoch 00029: val_accuracy improved from 0.81270 to 0.81440, saving model to /content/saved_models/keras_cifar10_trained_model.h5\n",
            "781/781 [==============================] - 34s 43ms/step - loss: 0.6722 - accuracy: 0.7931 - val_loss: 0.6222 - val_accuracy: 0.8144 - lr: 0.0010\n",
            "Epoch 30/100\n",
            "780/781 [============================>.] - ETA: 0s - loss: 0.6619 - accuracy: 0.7952\n",
            "Epoch 00030: val_accuracy improved from 0.81440 to 0.81740, saving model to /content/saved_models/keras_cifar10_trained_model.h5\n",
            "781/781 [==============================] - 34s 43ms/step - loss: 0.6619 - accuracy: 0.7953 - val_loss: 0.6148 - val_accuracy: 0.8174 - lr: 0.0010\n",
            "Epoch 31/100\n",
            "780/781 [============================>.] - ETA: 0s - loss: 0.6694 - accuracy: 0.7920\n",
            "Epoch 00031: val_accuracy did not improve from 0.81740\n",
            "781/781 [==============================] - 34s 43ms/step - loss: 0.6695 - accuracy: 0.7920 - val_loss: 0.6726 - val_accuracy: 0.7984 - lr: 0.0010\n",
            "Epoch 32/100\n",
            "780/781 [============================>.] - ETA: 0s - loss: 0.6632 - accuracy: 0.7934\n",
            "Epoch 00032: val_accuracy did not improve from 0.81740\n",
            "781/781 [==============================] - 34s 43ms/step - loss: 0.6631 - accuracy: 0.7935 - val_loss: 0.6860 - val_accuracy: 0.7969 - lr: 0.0010\n",
            "Epoch 33/100\n",
            "780/781 [============================>.] - ETA: 0s - loss: 0.6567 - accuracy: 0.7975\n",
            "Epoch 00033: val_accuracy did not improve from 0.81740\n",
            "781/781 [==============================] - 34s 43ms/step - loss: 0.6570 - accuracy: 0.7973 - val_loss: 0.7247 - val_accuracy: 0.7862 - lr: 0.0010\n",
            "Epoch 34/100\n",
            "781/781 [==============================] - ETA: 0s - loss: 0.6598 - accuracy: 0.7968\n",
            "Epoch 00034: val_accuracy did not improve from 0.81740\n",
            "781/781 [==============================] - 34s 43ms/step - loss: 0.6598 - accuracy: 0.7968 - val_loss: 0.6524 - val_accuracy: 0.8058 - lr: 0.0010\n",
            "Epoch 35/100\n",
            "780/781 [============================>.] - ETA: 0s - loss: 0.6513 - accuracy: 0.7991\n",
            "Epoch 00035: val_accuracy did not improve from 0.81740\n",
            "781/781 [==============================] - 34s 43ms/step - loss: 0.6512 - accuracy: 0.7992 - val_loss: 0.6723 - val_accuracy: 0.8027 - lr: 0.0010\n",
            "Epoch 36/100\n",
            "781/781 [==============================] - ETA: 0s - loss: 0.6526 - accuracy: 0.7992\n",
            "Epoch 00036: val_accuracy did not improve from 0.81740\n",
            "781/781 [==============================] - 34s 43ms/step - loss: 0.6526 - accuracy: 0.7992 - val_loss: 0.6322 - val_accuracy: 0.8125 - lr: 0.0010\n",
            "Epoch 37/100\n",
            "781/781 [==============================] - ETA: 0s - loss: 0.6506 - accuracy: 0.8007\n",
            "Epoch 00037: val_accuracy did not improve from 0.81740\n",
            "781/781 [==============================] - 34s 44ms/step - loss: 0.6506 - accuracy: 0.8007 - val_loss: 0.7297 - val_accuracy: 0.7850 - lr: 0.0010\n",
            "Epoch 38/100\n",
            "781/781 [==============================] - ETA: 0s - loss: 0.6490 - accuracy: 0.7997\n",
            "Epoch 00038: val_accuracy did not improve from 0.81740\n",
            "781/781 [==============================] - 34s 43ms/step - loss: 0.6490 - accuracy: 0.7997 - val_loss: 0.6680 - val_accuracy: 0.8056 - lr: 0.0010\n",
            "Epoch 39/100\n",
            "780/781 [============================>.] - ETA: 0s - loss: 0.6427 - accuracy: 0.8033\n",
            "Epoch 00039: val_accuracy did not improve from 0.81740\n",
            "781/781 [==============================] - 34s 43ms/step - loss: 0.6426 - accuracy: 0.8033 - val_loss: 0.6181 - val_accuracy: 0.8174 - lr: 0.0010\n",
            "Epoch 40/100\n",
            "781/781 [==============================] - ETA: 0s - loss: 0.6438 - accuracy: 0.8029\n",
            "Epoch 00040: val_accuracy did not improve from 0.81740\n",
            "781/781 [==============================] - 34s 43ms/step - loss: 0.6438 - accuracy: 0.8029 - val_loss: 0.6210 - val_accuracy: 0.8168 - lr: 0.0010\n",
            "Epoch 41/100\n",
            "781/781 [==============================] - ETA: 0s - loss: 0.6416 - accuracy: 0.8036\n",
            "Epoch 00041: val_accuracy did not improve from 0.81740\n",
            "781/781 [==============================] - 34s 43ms/step - loss: 0.6416 - accuracy: 0.8036 - val_loss: 0.6470 - val_accuracy: 0.8074 - lr: 0.0010\n",
            "Epoch 42/100\n",
            "780/781 [============================>.] - ETA: 0s - loss: 0.6403 - accuracy: 0.8043\n",
            "Epoch 00042: val_accuracy did not improve from 0.81740\n",
            "781/781 [==============================] - 34s 43ms/step - loss: 0.6403 - accuracy: 0.8043 - val_loss: 0.6459 - val_accuracy: 0.8137 - lr: 0.0010\n",
            "Epoch 43/100\n",
            "781/781 [==============================] - ETA: 0s - loss: 0.6369 - accuracy: 0.8047\n",
            "Epoch 00043: val_accuracy did not improve from 0.81740\n",
            "781/781 [==============================] - 34s 43ms/step - loss: 0.6369 - accuracy: 0.8047 - val_loss: 0.6525 - val_accuracy: 0.8087 - lr: 0.0010\n",
            "Epoch 44/100\n",
            "781/781 [==============================] - ETA: 0s - loss: 0.6384 - accuracy: 0.8057\n",
            "Epoch 00044: val_accuracy did not improve from 0.81740\n",
            "781/781 [==============================] - 33s 43ms/step - loss: 0.6384 - accuracy: 0.8057 - val_loss: 0.6456 - val_accuracy: 0.8138 - lr: 0.0010\n",
            "Epoch 45/100\n",
            "780/781 [============================>.] - ETA: 0s - loss: 0.6346 - accuracy: 0.8063\n",
            "Epoch 00045: val_accuracy did not improve from 0.81740\n",
            "781/781 [==============================] - 34s 43ms/step - loss: 0.6348 - accuracy: 0.8064 - val_loss: 0.7056 - val_accuracy: 0.7926 - lr: 0.0010\n",
            "Epoch 46/100\n",
            "781/781 [==============================] - ETA: 0s - loss: 0.6304 - accuracy: 0.8084\n",
            "Epoch 00046: val_accuracy did not improve from 0.81740\n",
            "781/781 [==============================] - 33s 43ms/step - loss: 0.6304 - accuracy: 0.8084 - val_loss: 0.7106 - val_accuracy: 0.7926 - lr: 0.0010\n",
            "Epoch 47/100\n",
            "781/781 [==============================] - ETA: 0s - loss: 0.6357 - accuracy: 0.8057\n",
            "Epoch 00047: val_accuracy did not improve from 0.81740\n",
            "781/781 [==============================] - 34s 43ms/step - loss: 0.6357 - accuracy: 0.8057 - val_loss: 0.6495 - val_accuracy: 0.8159 - lr: 0.0010\n",
            "Epoch 48/100\n",
            "780/781 [============================>.] - ETA: 0s - loss: 0.6307 - accuracy: 0.8080\n",
            "Epoch 00048: val_accuracy did not improve from 0.81740\n",
            "781/781 [==============================] - 34s 43ms/step - loss: 0.6305 - accuracy: 0.8080 - val_loss: 0.6588 - val_accuracy: 0.8078 - lr: 0.0010\n",
            "Epoch 49/100\n",
            "780/781 [============================>.] - ETA: 0s - loss: 0.6299 - accuracy: 0.8101\n",
            "Epoch 00049: val_accuracy did not improve from 0.81740\n",
            "781/781 [==============================] - 34s 43ms/step - loss: 0.6300 - accuracy: 0.8101 - val_loss: 0.6116 - val_accuracy: 0.8146 - lr: 0.0010\n",
            "Epoch 50/100\n",
            "781/781 [==============================] - ETA: 0s - loss: 0.6313 - accuracy: 0.8076\n",
            "Epoch 00050: val_accuracy did not improve from 0.81740\n",
            "781/781 [==============================] - 34s 43ms/step - loss: 0.6313 - accuracy: 0.8076 - val_loss: 0.6659 - val_accuracy: 0.8076 - lr: 0.0010\n",
            "Epoch 51/100\n",
            "780/781 [============================>.] - ETA: 0s - loss: 0.6252 - accuracy: 0.8105\n",
            "Epoch 00051: val_accuracy improved from 0.81740 to 0.82370, saving model to /content/saved_models/keras_cifar10_trained_model.h5\n",
            "781/781 [==============================] - 34s 43ms/step - loss: 0.6253 - accuracy: 0.8104 - val_loss: 0.6042 - val_accuracy: 0.8237 - lr: 0.0010\n",
            "Epoch 52/100\n",
            "780/781 [============================>.] - ETA: 0s - loss: 0.5986 - accuracy: 0.8196\n",
            "Epoch 00052: val_accuracy improved from 0.82370 to 0.83250, saving model to /content/saved_models/keras_cifar10_trained_model.h5\n",
            "781/781 [==============================] - 34s 43ms/step - loss: 0.5987 - accuracy: 0.8195 - val_loss: 0.5925 - val_accuracy: 0.8325 - lr: 5.0000e-04\n",
            "Epoch 53/100\n",
            "780/781 [============================>.] - ETA: 0s - loss: 0.5885 - accuracy: 0.8232\n",
            "Epoch 00053: val_accuracy did not improve from 0.83250\n",
            "781/781 [==============================] - 33s 43ms/step - loss: 0.5886 - accuracy: 0.8232 - val_loss: 0.5824 - val_accuracy: 0.8300 - lr: 5.0000e-04\n",
            "Epoch 54/100\n",
            "780/781 [============================>.] - ETA: 0s - loss: 0.5847 - accuracy: 0.8241\n",
            "Epoch 00054: val_accuracy did not improve from 0.83250\n",
            "781/781 [==============================] - 33s 42ms/step - loss: 0.5848 - accuracy: 0.8240 - val_loss: 0.6050 - val_accuracy: 0.8259 - lr: 5.0000e-04\n",
            "Epoch 55/100\n",
            "780/781 [============================>.] - ETA: 0s - loss: 0.5805 - accuracy: 0.8265\n",
            "Epoch 00055: val_accuracy did not improve from 0.83250\n",
            "781/781 [==============================] - 38s 48ms/step - loss: 0.5808 - accuracy: 0.8265 - val_loss: 0.6054 - val_accuracy: 0.8269 - lr: 5.0000e-04\n",
            "Epoch 56/100\n",
            "781/781 [==============================] - ETA: 0s - loss: 0.5719 - accuracy: 0.8276\n",
            "Epoch 00056: val_accuracy improved from 0.83250 to 0.84260, saving model to /content/saved_models/keras_cifar10_trained_model.h5\n",
            "781/781 [==============================] - 35s 44ms/step - loss: 0.5719 - accuracy: 0.8276 - val_loss: 0.5445 - val_accuracy: 0.8426 - lr: 5.0000e-04\n",
            "Epoch 57/100\n",
            "781/781 [==============================] - ETA: 0s - loss: 0.5747 - accuracy: 0.8258\n",
            "Epoch 00057: val_accuracy did not improve from 0.84260\n",
            "781/781 [==============================] - 35s 44ms/step - loss: 0.5747 - accuracy: 0.8258 - val_loss: 0.5811 - val_accuracy: 0.8331 - lr: 5.0000e-04\n",
            "Epoch 58/100\n",
            "781/781 [==============================] - ETA: 0s - loss: 0.5687 - accuracy: 0.8279\n",
            "Epoch 00058: val_accuracy did not improve from 0.84260\n",
            "781/781 [==============================] - 34s 44ms/step - loss: 0.5687 - accuracy: 0.8279 - val_loss: 0.5469 - val_accuracy: 0.8417 - lr: 5.0000e-04\n",
            "Epoch 59/100\n",
            "780/781 [============================>.] - ETA: 0s - loss: 0.5744 - accuracy: 0.8252\n",
            "Epoch 00059: val_accuracy improved from 0.84260 to 0.84490, saving model to /content/saved_models/keras_cifar10_trained_model.h5\n",
            "781/781 [==============================] - 34s 44ms/step - loss: 0.5744 - accuracy: 0.8252 - val_loss: 0.5380 - val_accuracy: 0.8449 - lr: 5.0000e-04\n",
            "Epoch 60/100\n",
            "781/781 [==============================] - ETA: 0s - loss: 0.5650 - accuracy: 0.8281\n",
            "Epoch 00060: val_accuracy did not improve from 0.84490\n",
            "781/781 [==============================] - 34s 44ms/step - loss: 0.5650 - accuracy: 0.8281 - val_loss: 0.5516 - val_accuracy: 0.8393 - lr: 5.0000e-04\n",
            "Epoch 61/100\n",
            "781/781 [==============================] - ETA: 0s - loss: 0.5648 - accuracy: 0.8296\n",
            "Epoch 00061: val_accuracy did not improve from 0.84490\n",
            "781/781 [==============================] - 34s 44ms/step - loss: 0.5648 - accuracy: 0.8296 - val_loss: 0.5602 - val_accuracy: 0.8389 - lr: 5.0000e-04\n",
            "Epoch 62/100\n",
            "780/781 [============================>.] - ETA: 0s - loss: 0.5635 - accuracy: 0.8308\n",
            "Epoch 00062: val_accuracy did not improve from 0.84490\n",
            "781/781 [==============================] - 34s 44ms/step - loss: 0.5634 - accuracy: 0.8309 - val_loss: 0.5337 - val_accuracy: 0.8438 - lr: 5.0000e-04\n",
            "Epoch 63/100\n",
            "780/781 [============================>.] - ETA: 0s - loss: 0.5697 - accuracy: 0.8267\n",
            "Epoch 00063: val_accuracy did not improve from 0.84490\n",
            "781/781 [==============================] - 34s 44ms/step - loss: 0.5698 - accuracy: 0.8267 - val_loss: 0.5555 - val_accuracy: 0.8378 - lr: 5.0000e-04\n",
            "Epoch 64/100\n",
            "780/781 [============================>.] - ETA: 0s - loss: 0.5586 - accuracy: 0.8295\n",
            "Epoch 00064: val_accuracy did not improve from 0.84490\n",
            "781/781 [==============================] - 34s 43ms/step - loss: 0.5586 - accuracy: 0.8295 - val_loss: 0.5644 - val_accuracy: 0.8361 - lr: 5.0000e-04\n",
            "Epoch 65/100\n",
            "781/781 [==============================] - ETA: 0s - loss: 0.5641 - accuracy: 0.8290\n",
            "Epoch 00065: val_accuracy did not improve from 0.84490\n",
            "781/781 [==============================] - 34s 43ms/step - loss: 0.5641 - accuracy: 0.8290 - val_loss: 0.5530 - val_accuracy: 0.8397 - lr: 5.0000e-04\n",
            "Epoch 66/100\n",
            "780/781 [============================>.] - ETA: 0s - loss: 0.5605 - accuracy: 0.8309\n",
            "Epoch 00066: val_accuracy did not improve from 0.84490\n",
            "781/781 [==============================] - 34s 43ms/step - loss: 0.5602 - accuracy: 0.8309 - val_loss: 0.5512 - val_accuracy: 0.8390 - lr: 5.0000e-04\n",
            "Epoch 67/100\n",
            "781/781 [==============================] - ETA: 0s - loss: 0.5532 - accuracy: 0.8314\n",
            "Epoch 00067: val_accuracy did not improve from 0.84490\n",
            "781/781 [==============================] - 34s 43ms/step - loss: 0.5532 - accuracy: 0.8314 - val_loss: 0.6403 - val_accuracy: 0.8167 - lr: 5.0000e-04\n",
            "Epoch 68/100\n",
            "781/781 [==============================] - ETA: 0s - loss: 0.5612 - accuracy: 0.8299\n",
            "Epoch 00068: val_accuracy did not improve from 0.84490\n",
            "781/781 [==============================] - 34s 44ms/step - loss: 0.5612 - accuracy: 0.8299 - val_loss: 0.5473 - val_accuracy: 0.8402 - lr: 5.0000e-04\n",
            "Epoch 69/100\n",
            "780/781 [============================>.] - ETA: 0s - loss: 0.5594 - accuracy: 0.8299\n",
            "Epoch 00069: val_accuracy did not improve from 0.84490\n",
            "781/781 [==============================] - 34s 43ms/step - loss: 0.5594 - accuracy: 0.8300 - val_loss: 0.5352 - val_accuracy: 0.8416 - lr: 5.0000e-04\n",
            "Epoch 70/100\n",
            "780/781 [============================>.] - ETA: 0s - loss: 0.5584 - accuracy: 0.8295\n",
            "Epoch 00070: val_accuracy did not improve from 0.84490\n",
            "781/781 [==============================] - 34s 43ms/step - loss: 0.5585 - accuracy: 0.8296 - val_loss: 0.5819 - val_accuracy: 0.8314 - lr: 5.0000e-04\n",
            "Epoch 71/100\n",
            "780/781 [============================>.] - ETA: 0s - loss: 0.5510 - accuracy: 0.8312\n",
            "Epoch 00071: val_accuracy did not improve from 0.84490\n",
            "781/781 [==============================] - 34s 43ms/step - loss: 0.5510 - accuracy: 0.8313 - val_loss: 0.5726 - val_accuracy: 0.8331 - lr: 5.0000e-04\n",
            "Epoch 72/100\n",
            "780/781 [============================>.] - ETA: 0s - loss: 0.5565 - accuracy: 0.8307\n",
            "Epoch 00072: val_accuracy did not improve from 0.84490\n",
            "781/781 [==============================] - 34s 44ms/step - loss: 0.5567 - accuracy: 0.8306 - val_loss: 0.5641 - val_accuracy: 0.8405 - lr: 5.0000e-04\n",
            "Epoch 73/100\n",
            "781/781 [==============================] - ETA: 0s - loss: 0.5520 - accuracy: 0.8323\n",
            "Epoch 00073: val_accuracy did not improve from 0.84490\n",
            "781/781 [==============================] - 34s 43ms/step - loss: 0.5520 - accuracy: 0.8323 - val_loss: 0.5461 - val_accuracy: 0.8396 - lr: 5.0000e-04\n",
            "Epoch 74/100\n",
            "781/781 [==============================] - ETA: 0s - loss: 0.5495 - accuracy: 0.8317\n",
            "Epoch 00074: val_accuracy did not improve from 0.84490\n",
            "781/781 [==============================] - 34s 43ms/step - loss: 0.5495 - accuracy: 0.8317 - val_loss: 0.5630 - val_accuracy: 0.8350 - lr: 5.0000e-04\n",
            "Epoch 75/100\n",
            "781/781 [==============================] - ETA: 0s - loss: 0.5469 - accuracy: 0.8338\n",
            "Epoch 00075: val_accuracy did not improve from 0.84490\n",
            "781/781 [==============================] - 34s 43ms/step - loss: 0.5469 - accuracy: 0.8338 - val_loss: 0.5717 - val_accuracy: 0.8353 - lr: 5.0000e-04\n",
            "Epoch 76/100\n",
            "781/781 [==============================] - ETA: 0s - loss: 0.5451 - accuracy: 0.8343\n",
            "Epoch 00076: val_accuracy improved from 0.84490 to 0.85030, saving model to /content/saved_models/keras_cifar10_trained_model.h5\n",
            "781/781 [==============================] - 34s 44ms/step - loss: 0.5451 - accuracy: 0.8343 - val_loss: 0.5154 - val_accuracy: 0.8503 - lr: 5.0000e-04\n",
            "Epoch 77/100\n",
            "781/781 [==============================] - ETA: 0s - loss: 0.5352 - accuracy: 0.8381\n",
            "Epoch 00077: val_accuracy did not improve from 0.85030\n",
            "781/781 [==============================] - 34s 44ms/step - loss: 0.5352 - accuracy: 0.8381 - val_loss: 0.5422 - val_accuracy: 0.8419 - lr: 3.0000e-04\n",
            "Epoch 78/100\n",
            "781/781 [==============================] - ETA: 0s - loss: 0.5313 - accuracy: 0.8368\n",
            "Epoch 00078: val_accuracy did not improve from 0.85030\n",
            "781/781 [==============================] - 34s 43ms/step - loss: 0.5313 - accuracy: 0.8368 - val_loss: 0.5393 - val_accuracy: 0.8470 - lr: 3.0000e-04\n",
            "Epoch 79/100\n",
            "781/781 [==============================] - ETA: 0s - loss: 0.5255 - accuracy: 0.8407\n",
            "Epoch 00079: val_accuracy did not improve from 0.85030\n",
            "781/781 [==============================] - 34s 43ms/step - loss: 0.5255 - accuracy: 0.8407 - val_loss: 0.5423 - val_accuracy: 0.8437 - lr: 3.0000e-04\n",
            "Epoch 80/100\n",
            "780/781 [============================>.] - ETA: 0s - loss: 0.5204 - accuracy: 0.8406\n",
            "Epoch 00080: val_accuracy improved from 0.85030 to 0.85240, saving model to /content/saved_models/keras_cifar10_trained_model.h5\n",
            "781/781 [==============================] - 34s 43ms/step - loss: 0.5207 - accuracy: 0.8406 - val_loss: 0.5164 - val_accuracy: 0.8524 - lr: 3.0000e-04\n",
            "Epoch 81/100\n",
            "780/781 [============================>.] - ETA: 0s - loss: 0.5266 - accuracy: 0.8379\n",
            "Epoch 00081: val_accuracy improved from 0.85240 to 0.85600, saving model to /content/saved_models/keras_cifar10_trained_model.h5\n",
            "781/781 [==============================] - 34s 44ms/step - loss: 0.5267 - accuracy: 0.8379 - val_loss: 0.5028 - val_accuracy: 0.8560 - lr: 3.0000e-04\n",
            "Epoch 82/100\n",
            "780/781 [============================>.] - ETA: 0s - loss: 0.5258 - accuracy: 0.8390\n",
            "Epoch 00082: val_accuracy did not improve from 0.85600\n",
            "781/781 [==============================] - 34s 43ms/step - loss: 0.5256 - accuracy: 0.8391 - val_loss: 0.5419 - val_accuracy: 0.8455 - lr: 3.0000e-04\n",
            "Epoch 83/100\n",
            "780/781 [============================>.] - ETA: 0s - loss: 0.5170 - accuracy: 0.8422\n",
            "Epoch 00083: val_accuracy did not improve from 0.85600\n",
            "781/781 [==============================] - 34s 43ms/step - loss: 0.5174 - accuracy: 0.8421 - val_loss: 0.5164 - val_accuracy: 0.8505 - lr: 3.0000e-04\n",
            "Epoch 84/100\n",
            "781/781 [==============================] - ETA: 0s - loss: 0.5225 - accuracy: 0.8404\n",
            "Epoch 00084: val_accuracy did not improve from 0.85600\n",
            "781/781 [==============================] - 34s 43ms/step - loss: 0.5225 - accuracy: 0.8404 - val_loss: 0.5463 - val_accuracy: 0.8408 - lr: 3.0000e-04\n",
            "Epoch 85/100\n",
            "780/781 [============================>.] - ETA: 0s - loss: 0.5226 - accuracy: 0.8391\n",
            "Epoch 00085: val_accuracy did not improve from 0.85600\n",
            "781/781 [==============================] - 34s 43ms/step - loss: 0.5225 - accuracy: 0.8391 - val_loss: 0.5221 - val_accuracy: 0.8498 - lr: 3.0000e-04\n",
            "Epoch 86/100\n",
            "780/781 [============================>.] - ETA: 0s - loss: 0.5157 - accuracy: 0.8430\n",
            "Epoch 00086: val_accuracy did not improve from 0.85600\n",
            "781/781 [==============================] - 34s 43ms/step - loss: 0.5155 - accuracy: 0.8430 - val_loss: 0.5408 - val_accuracy: 0.8462 - lr: 3.0000e-04\n",
            "Epoch 87/100\n",
            "780/781 [============================>.] - ETA: 0s - loss: 0.5222 - accuracy: 0.8390\n",
            "Epoch 00087: val_accuracy did not improve from 0.85600\n",
            "781/781 [==============================] - 34s 43ms/step - loss: 0.5225 - accuracy: 0.8389 - val_loss: 0.5676 - val_accuracy: 0.8401 - lr: 3.0000e-04\n",
            "Epoch 88/100\n",
            "781/781 [==============================] - ETA: 0s - loss: 0.5156 - accuracy: 0.8441\n",
            "Epoch 00088: val_accuracy did not improve from 0.85600\n",
            "781/781 [==============================] - 34s 43ms/step - loss: 0.5156 - accuracy: 0.8441 - val_loss: 0.5498 - val_accuracy: 0.8421 - lr: 3.0000e-04\n",
            "Epoch 89/100\n",
            "780/781 [============================>.] - ETA: 0s - loss: 0.5154 - accuracy: 0.8397\n",
            "Epoch 00089: val_accuracy did not improve from 0.85600\n",
            "781/781 [==============================] - 34s 43ms/step - loss: 0.5153 - accuracy: 0.8397 - val_loss: 0.5156 - val_accuracy: 0.8482 - lr: 3.0000e-04\n",
            "Epoch 90/100\n",
            "781/781 [==============================] - ETA: 0s - loss: 0.5168 - accuracy: 0.8425\n",
            "Epoch 00090: val_accuracy did not improve from 0.85600\n",
            "781/781 [==============================] - 34s 43ms/step - loss: 0.5168 - accuracy: 0.8425 - val_loss: 0.5106 - val_accuracy: 0.8529 - lr: 3.0000e-04\n",
            "Epoch 91/100\n",
            "780/781 [============================>.] - ETA: 0s - loss: 0.5179 - accuracy: 0.8414\n",
            "Epoch 00091: val_accuracy did not improve from 0.85600\n",
            "781/781 [==============================] - 34s 43ms/step - loss: 0.5179 - accuracy: 0.8414 - val_loss: 0.5238 - val_accuracy: 0.8484 - lr: 3.0000e-04\n",
            "Epoch 92/100\n",
            "781/781 [==============================] - ETA: 0s - loss: 0.5220 - accuracy: 0.8380\n",
            "Epoch 00092: val_accuracy improved from 0.85600 to 0.85670, saving model to /content/saved_models/keras_cifar10_trained_model.h5\n",
            "781/781 [==============================] - 34s 44ms/step - loss: 0.5220 - accuracy: 0.8380 - val_loss: 0.4975 - val_accuracy: 0.8567 - lr: 3.0000e-04\n",
            "Epoch 93/100\n",
            "780/781 [============================>.] - ETA: 0s - loss: 0.5161 - accuracy: 0.8428\n",
            "Epoch 00093: val_accuracy did not improve from 0.85670\n",
            "781/781 [==============================] - 34s 43ms/step - loss: 0.5161 - accuracy: 0.8427 - val_loss: 0.5330 - val_accuracy: 0.8461 - lr: 3.0000e-04\n",
            "Epoch 94/100\n",
            "780/781 [============================>.] - ETA: 0s - loss: 0.5089 - accuracy: 0.8455\n",
            "Epoch 00094: val_accuracy did not improve from 0.85670\n",
            "781/781 [==============================] - 34s 43ms/step - loss: 0.5087 - accuracy: 0.8456 - val_loss: 0.5215 - val_accuracy: 0.8501 - lr: 3.0000e-04\n",
            "Epoch 95/100\n",
            "781/781 [==============================] - ETA: 0s - loss: 0.5097 - accuracy: 0.8438\n",
            "Epoch 00095: val_accuracy did not improve from 0.85670\n",
            "781/781 [==============================] - 34s 43ms/step - loss: 0.5097 - accuracy: 0.8438 - val_loss: 0.4996 - val_accuracy: 0.8558 - lr: 3.0000e-04\n",
            "Epoch 96/100\n",
            "780/781 [============================>.] - ETA: 0s - loss: 0.5106 - accuracy: 0.8425\n",
            "Epoch 00096: val_accuracy did not improve from 0.85670\n",
            "781/781 [==============================] - 34s 44ms/step - loss: 0.5106 - accuracy: 0.8426 - val_loss: 0.5292 - val_accuracy: 0.8476 - lr: 3.0000e-04\n",
            "Epoch 97/100\n",
            "780/781 [============================>.] - ETA: 0s - loss: 0.5146 - accuracy: 0.8421\n",
            "Epoch 00097: val_accuracy did not improve from 0.85670\n",
            "781/781 [==============================] - 34s 43ms/step - loss: 0.5146 - accuracy: 0.8421 - val_loss: 0.5209 - val_accuracy: 0.8484 - lr: 3.0000e-04\n",
            "Epoch 98/100\n",
            "781/781 [==============================] - ETA: 0s - loss: 0.5152 - accuracy: 0.8421\n",
            "Epoch 00098: val_accuracy did not improve from 0.85670\n",
            "781/781 [==============================] - 34s 43ms/step - loss: 0.5152 - accuracy: 0.8421 - val_loss: 0.4901 - val_accuracy: 0.8549 - lr: 3.0000e-04\n",
            "Epoch 99/100\n",
            "781/781 [==============================] - ETA: 0s - loss: 0.5143 - accuracy: 0.8407\n",
            "Epoch 00099: val_accuracy did not improve from 0.85670\n",
            "781/781 [==============================] - 34s 43ms/step - loss: 0.5143 - accuracy: 0.8407 - val_loss: 0.5051 - val_accuracy: 0.8520 - lr: 3.0000e-04\n",
            "Epoch 100/100\n",
            "780/781 [============================>.] - ETA: 0s - loss: 0.5037 - accuracy: 0.8460\n",
            "Epoch 00100: val_accuracy did not improve from 0.85670\n",
            "781/781 [==============================] - 34s 43ms/step - loss: 0.5039 - accuracy: 0.8459 - val_loss: 0.5324 - val_accuracy: 0.8451 - lr: 3.0000e-04\n"
          ],
          "name": "stdout"
        },
        {
          "output_type": "execute_result",
          "data": {
            "text/plain": [
              "<tensorflow.python.keras.callbacks.History at 0x7f02727c6240>"
            ]
          },
          "metadata": {
            "tags": []
          },
          "execution_count": 11
        }
      ]
    },
    {
      "cell_type": "code",
      "metadata": {
        "id": "MPYYlMQWQ0DX",
        "colab_type": "code",
        "outputId": "2580d912-af48-4125-b172-f0446139f424",
        "colab": {
          "base_uri": "https://localhost:8080/",
          "height": 953
        }
      },
      "source": [
        "fig, ax = plt.subplots(2, 1, figsize=(16, 16))\n",
        "ax[0].set_title(\"loss\")\n",
        "ax[0].plot(np.arange(epochs), model.history.history['loss'], 'g', label='train_loss')\n",
        "ax[0].plot(np.arange(epochs), model.history.history['val_loss'], 'b', label='val_loss')\n",
        "ax[0].set_ylim(0.4, 1)\n",
        "ax[0].legend()\n",
        "\n",
        "ax[1].set_title(\"accuracy\")\n",
        "ax[1].plot(np.arange(epochs), model.history.history['accuracy'], 'g', label='accuracy')\n",
        "ax[1].plot(np.arange(epochs), model.history.history['val_accuracy'], 'b', label='val_accuracy')\n",
        "ax[1].set_ylim(0.7, 1)\n",
        "ax[1].legend()"
      ],
      "execution_count": 12,
      "outputs": [
        {
          "output_type": "execute_result",
          "data": {
            "text/plain": [
              "<matplotlib.legend.Legend at 0x7f01bc4a5ba8>"
            ]
          },
          "metadata": {
            "tags": []
          },
          "execution_count": 12
        },
        {
          "output_type": "display_data",
          "data": {
            "image/png": "[encoded data removed]",
            "text/plain": [
              "<Figure size 1152x1152 with 2 Axes>"
            ]
          },
          "metadata": {
            "tags": [],
            "needs_background": "light"
          }
        }
      ]
    },
    {
      "cell_type": "markdown",
      "metadata": {
        "colab_type": "text",
        "id": "uJa3s3CotqRz"
      },
      "source": [
        "### **Save model and weights**"
      ]
    },
    {
      "cell_type": "code",
      "metadata": {
        "colab_type": "code",
        "id": "zAOnBqjHtuqF",
        "colab": {}
      },
      "source": [
        "# model.save(model_path)\n",
        "\n",
        "# model_path"
      ],
      "execution_count": 0,
      "outputs": []
    },
    {
      "cell_type": "code",
      "metadata": {
        "colab_type": "code",
        "id": "pOldRpmRKag6",
        "colab": {
          "base_uri": "https://localhost:8080/",
          "height": 36
        },
        "outputId": "0c58e116-0558-478b-d6c7-3ed8d893c36f"
      },
      "source": [
        "model = load_model(model_path)\n",
        "\n",
        "model_path"
      ],
      "execution_count": 14,
      "outputs": [
        {
          "output_type": "execute_result",
          "data": {
            "text/plain": [
              "'/content/saved_models/keras_cifar10_trained_model.h5'"
            ]
          },
          "metadata": {
            "tags": []
          },
          "execution_count": 14
        }
      ]
    },
    {
      "cell_type": "markdown",
      "metadata": {
        "colab_type": "text",
        "id": "R1dTKNaetyJ2"
      },
      "source": [
        "### **Score trained model.**"
      ]
    },
    {
      "cell_type": "code",
      "metadata": {
        "colab_type": "code",
        "id": "TJhg27EZt2DP",
        "outputId": "710a5641-d77b-48ff-9f74-ce5363a2f7d1",
        "colab": {
          "base_uri": "https://localhost:8080/",
          "height": 56
        }
      },
      "source": [
        "scores = model.evaluate(x_test, y_test)\n",
        "\n",
        "scores"
      ],
      "execution_count": 15,
      "outputs": [
        {
          "output_type": "stream",
          "text": [
            "313/313 [==============================] - 1s 4ms/step - loss: 0.4975 - accuracy: 0.8567\n"
          ],
          "name": "stdout"
        },
        {
          "output_type": "execute_result",
          "data": {
            "text/plain": [
              "[0.4974817633628845, 0.8567000031471252]"
            ]
          },
          "metadata": {
            "tags": []
          },
          "execution_count": 15
        }
      ]
    }
  ]
}