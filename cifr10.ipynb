{
  "nbformat": 4,
  "nbformat_minor": 0,
  "metadata": {
    "accelerator": "GPU",
    "colab": {
      "name": "cifr10.ipynb",
      "provenance": [],
      "collapsed_sections": []
    },
    "kernelspec": {
      "display_name": "Python 3",
      "language": "python",
      "name": "python3"
    },
    "language_info": {
      "codemirror_mode": {
        "name": "ipython",
        "version": 3
      },
      "file_extension": ".py",
      "mimetype": "text/x-python",
      "name": "python",
      "nbconvert_exporter": "python",
      "pygments_lexer": "ipython3",
      "version": "3.6.8"
    }
  },
  "cells": [
    {
      "cell_type": "markdown",
      "metadata": {
        "colab_type": "text",
        "id": "oOEs2wWEq3oY"
      },
      "source": [
        "# **Keras code for CIFAR10 classification by CNN**"
      ]
    },
    {
      "cell_type": "markdown",
      "metadata": {
        "colab_type": "text",
        "id": "eusODB8LExaP"
      },
      "source": [
        "This simple CNN generates about 36% test accuracy for 100 training epochs."
      ]
    },
    {
      "cell_type": "markdown",
      "metadata": {
        "colab_type": "text",
        "id": "PYxWfgterKln"
      },
      "source": [
        "### **Import Keras necessary package**"
      ]
    },
    {
      "cell_type": "code",
      "metadata": {
        "colab_type": "code",
        "id": "529l2_pZqlV_",
        "colab": {}
      },
      "source": [
        "# import os\n",
        "\n",
        "from tensorflow.keras import Sequential\n",
        "from tensorflow.keras.layers import Conv2D, Activation, MaxPooling2D, BatchNormalization, Dropout, Flatten, Dense\n",
        "from tensorflow.keras.regularizers import l2\n",
        "from tensorflow.keras.optimizers import Adagrad, RMSprop, SGD\n",
        "# from tensorflow.keras.models import load_model\n",
        "from tensorflow.keras.datasets import cifar10\n",
        "from tensorflow.keras.utils import to_categorical\n",
        "from tensorflow.keras.preprocessing.image import ImageDataGenerator"
      ],
      "execution_count": 0,
      "outputs": []
    },
    {
      "cell_type": "markdown",
      "metadata": {
        "colab_type": "text",
        "id": "i0VKNZJmrosD"
      },
      "source": [
        "### **Define all settings**"
      ]
    },
    {
      "cell_type": "code",
      "metadata": {
        "colab_type": "code",
        "id": "RLD6LRJEramW",
        "colab": {}
      },
      "source": [
        "num_classes = 10\n",
        "data_augmentation = True"
      ],
      "execution_count": 0,
      "outputs": []
    },
    {
      "cell_type": "code",
      "metadata": {
        "id": "amSBvyN0-CNy",
        "colab_type": "code",
        "colab": {}
      },
      "source": [
        "# save_dir = os.path.join(os.getcwd(), 'saved_models')\n",
        "# model_name = 'keras_cifar10_trained_model.h5'\n",
        "\n",
        "# if not os.path.isdir(save_dir):\n",
        "#    os.makedirs(save_dir)\n",
        "\n",
        "# model_path = os.path.join(save_dir, model_name)"
      ],
      "execution_count": 0,
      "outputs": []
    },
    {
      "cell_type": "markdown",
      "metadata": {
        "colab_type": "text",
        "id": "WAwBwoTUryi7"
      },
      "source": [
        "### **The data, split between train and test sets:**"
      ]
    },
    {
      "cell_type": "code",
      "metadata": {
        "colab_type": "code",
        "id": "enJGoKdHr615",
        "outputId": "14734783-d1c4-41e8-91e8-19276c8770e6",
        "colab": {
          "base_uri": "https://localhost:8080/",
          "height": 36
        }
      },
      "source": [
        "(x_train, y_train), (x_test, y_test) = cifar10.load_data()\n",
        "\n",
        "x_train.shape, x_test.shape"
      ],
      "execution_count": 8,
      "outputs": [
        {
          "output_type": "execute_result",
          "data": {
            "text/plain": [
              "((50000, 32, 32, 3), (10000, 32, 32, 3))"
            ]
          },
          "metadata": {
            "tags": []
          },
          "execution_count": 8
        }
      ]
    },
    {
      "cell_type": "markdown",
      "metadata": {
        "colab_type": "text",
        "id": "nF_eS_EDr_n-"
      },
      "source": [
        "### **Convert class vectors to binary class matrices.**"
      ]
    },
    {
      "cell_type": "code",
      "metadata": {
        "colab_type": "code",
        "id": "bXikkyTEsFMJ",
        "outputId": "374f3a4d-f062-4bf8-8a31-77ba72b47fde",
        "colab": {
          "base_uri": "https://localhost:8080/",
          "height": 36
        }
      },
      "source": [
        "y_train = to_categorical(y_train, num_classes)\n",
        "y_test = to_categorical(y_test, num_classes)\n",
        "\n",
        "y_train.shape, y_test.shape"
      ],
      "execution_count": 9,
      "outputs": [
        {
          "output_type": "execute_result",
          "data": {
            "text/plain": [
              "((50000, 10), (10000, 10))"
            ]
          },
          "metadata": {
            "tags": []
          },
          "execution_count": 9
        }
      ]
    },
    {
      "cell_type": "markdown",
      "metadata": {
        "colab_type": "text",
        "id": "ZYuSLIfpsJoe"
      },
      "source": [
        "### **Define CNN architecture**"
      ]
    },
    {
      "cell_type": "code",
      "metadata": {
        "id": "cjth0uqjO6to",
        "colab_type": "code",
        "colab": {}
      },
      "source": [
        "lr_decay = 1e-4\n",
        "\n",
        "model = Sequential()\n",
        "model.add(Conv2D(32, (3,3), padding='same', kernel_regularizer=l2(lr_decay), input_shape=x_train.shape[1:]))\n",
        "model.add(Activation('elu'))\n",
        "model.add(BatchNormalization())\n",
        "model.add(Conv2D(32, (3,3), padding='same', kernel_regularizer=l2(lr_decay)))\n",
        "model.add(Activation('elu'))\n",
        "model.add(BatchNormalization())\n",
        "model.add(MaxPooling2D(pool_size=(2,2)))\n",
        "model.add(Dropout(0.2))\n",
        " \n",
        "model.add(Conv2D(64, (3,3), padding='same', kernel_regularizer=l2(lr_decay)))\n",
        "model.add(Activation('elu'))\n",
        "model.add(BatchNormalization())\n",
        "model.add(Conv2D(64, (3,3), padding='same', kernel_regularizer=l2(lr_decay)))\n",
        "model.add(Activation('elu'))\n",
        "model.add(BatchNormalization())\n",
        "model.add(MaxPooling2D(pool_size=(2,2)))\n",
        "model.add(Dropout(0.3))\n",
        " \n",
        "model.add(Conv2D(128, (3,3), padding='same', kernel_regularizer=l2(lr_decay)))\n",
        "model.add(Activation('elu'))\n",
        "model.add(BatchNormalization())\n",
        "model.add(Conv2D(128, (3,3), padding='same', kernel_regularizer=l2(lr_decay)))\n",
        "model.add(Activation('elu'))\n",
        "model.add(BatchNormalization())\n",
        "model.add(MaxPooling2D(pool_size=(2,2)))\n",
        "model.add(Dropout(0.4))\n",
        " \n",
        "model.add(Flatten())\n",
        "model.add(Dense(num_classes, activation='softmax'))"
      ],
      "execution_count": 0,
      "outputs": []
    },
    {
      "cell_type": "markdown",
      "metadata": {
        "colab_type": "text",
        "id": "USweZxIdsZcl"
      },
      "source": [
        "### **Model compilation**"
      ]
    },
    {
      "cell_type": "code",
      "metadata": {
        "colab_type": "code",
        "id": "Ha6vRS1islZd",
        "outputId": "012da7c1-f218-44ec-89d9-e38f8f72828f",
        "colab": {
          "base_uri": "https://localhost:8080/",
          "height": 1000
        }
      },
      "source": [
        "opt_lr = 0.001\n",
        "opt_decay = 1e-6\n",
        "\n",
        "optimizer = RMSprop(lr=opt_lr, decay=opt_decay)\n",
        "model.compile(loss='categorical_crossentropy',\n",
        "              optimizer=optimizer,\n",
        "              metrics=['accuracy'])\n",
        "model.summary()"
      ],
      "execution_count": 11,
      "outputs": [
        {
          "output_type": "stream",
          "text": [
            "Model: \"sequential\"\n",
            "_________________________________________________________________\n",
            "Layer (type)                 Output Shape              Param #   \n",
            "=================================================================\n",
            "conv2d (Conv2D)              (None, 32, 32, 32)        896       \n",
            "_________________________________________________________________\n",
            "activation (Activation)      (None, 32, 32, 32)        0         \n",
            "_________________________________________________________________\n",
            "batch_normalization (BatchNo (None, 32, 32, 32)        128       \n",
            "_________________________________________________________________\n",
            "conv2d_1 (Conv2D)            (None, 32, 32, 32)        9248      \n",
            "_________________________________________________________________\n",
            "activation_1 (Activation)    (None, 32, 32, 32)        0         \n",
            "_________________________________________________________________\n",
            "batch_normalization_1 (Batch (None, 32, 32, 32)        128       \n",
            "_________________________________________________________________\n",
            "max_pooling2d (MaxPooling2D) (None, 16, 16, 32)        0         \n",
            "_________________________________________________________________\n",
            "dropout (Dropout)            (None, 16, 16, 32)        0         \n",
            "_________________________________________________________________\n",
            "conv2d_2 (Conv2D)            (None, 16, 16, 64)        18496     \n",
            "_________________________________________________________________\n",
            "activation_2 (Activation)    (None, 16, 16, 64)        0         \n",
            "_________________________________________________________________\n",
            "batch_normalization_2 (Batch (None, 16, 16, 64)        256       \n",
            "_________________________________________________________________\n",
            "conv2d_3 (Conv2D)            (None, 16, 16, 64)        36928     \n",
            "_________________________________________________________________\n",
            "activation_3 (Activation)    (None, 16, 16, 64)        0         \n",
            "_________________________________________________________________\n",
            "batch_normalization_3 (Batch (None, 16, 16, 64)        256       \n",
            "_________________________________________________________________\n",
            "max_pooling2d_1 (MaxPooling2 (None, 8, 8, 64)          0         \n",
            "_________________________________________________________________\n",
            "dropout_1 (Dropout)          (None, 8, 8, 64)          0         \n",
            "_________________________________________________________________\n",
            "conv2d_4 (Conv2D)            (None, 8, 8, 128)         73856     \n",
            "_________________________________________________________________\n",
            "activation_4 (Activation)    (None, 8, 8, 128)         0         \n",
            "_________________________________________________________________\n",
            "batch_normalization_4 (Batch (None, 8, 8, 128)         512       \n",
            "_________________________________________________________________\n",
            "conv2d_5 (Conv2D)            (None, 8, 8, 128)         147584    \n",
            "_________________________________________________________________\n",
            "activation_5 (Activation)    (None, 8, 8, 128)         0         \n",
            "_________________________________________________________________\n",
            "batch_normalization_5 (Batch (None, 8, 8, 128)         512       \n",
            "_________________________________________________________________\n",
            "max_pooling2d_2 (MaxPooling2 (None, 4, 4, 128)         0         \n",
            "_________________________________________________________________\n",
            "dropout_2 (Dropout)          (None, 4, 4, 128)         0         \n",
            "_________________________________________________________________\n",
            "flatten (Flatten)            (None, 2048)              0         \n",
            "_________________________________________________________________\n",
            "dense (Dense)                (None, 10)                20490     \n",
            "=================================================================\n",
            "Total params: 309,290\n",
            "Trainable params: 308,394\n",
            "Non-trainable params: 896\n",
            "_________________________________________________________________\n"
          ],
          "name": "stdout"
        }
      ]
    },
    {
      "cell_type": "markdown",
      "metadata": {
        "colab_type": "text",
        "id": "zdSFMzFZsqFt"
      },
      "source": [
        "### **Data augmentation**"
      ]
    },
    {
      "cell_type": "code",
      "metadata": {
        "colab_type": "code",
        "id": "FSjNgs7_suFl",
        "outputId": "ea973e50-1ebc-45ca-846d-5a9faf7ef186",
        "colab": {
          "base_uri": "https://localhost:8080/",
          "height": 56
        }
      },
      "source": [
        "x_train = x_train.astype('float32')\n",
        "x_test = x_test.astype('float32')\n",
        "x_train /= 255\n",
        "x_test /= 255\n",
        "\n",
        "if not data_augmentation:\n",
        "    print('Not using data augmentation.')\n",
        "    model.fit(x_train, y_train,\n",
        "              batch_size=batch_size,\n",
        "              epochs=epochs,\n",
        "              validation_data=(x_test, y_test),\n",
        "              shuffle=True)\n",
        "else:\n",
        "    print('Using real-time data augmentation.')\n",
        "    datagen = ImageDataGenerator(\n",
        "        featurewise_center=True,\n",
        "        featurewise_std_normalization=True,\n",
        "        #rotation_range=20,\n",
        "        #width_shift_range=0.2,\n",
        "        #height_shift_range=0.2,\n",
        "        #horizontal_flip=True\n",
        "        )\n",
        "    datagen.fit(x_train)\n",
        "\n",
        "x_train.shape, x_test.shape"
      ],
      "execution_count": 12,
      "outputs": [
        {
          "output_type": "stream",
          "text": [
            "Using real-time data augmentation.\n"
          ],
          "name": "stdout"
        },
        {
          "output_type": "execute_result",
          "data": {
            "text/plain": [
              "((50000, 32, 32, 3), (10000, 32, 32, 3))"
            ]
          },
          "metadata": {
            "tags": []
          },
          "execution_count": 12
        }
      ]
    },
    {
      "cell_type": "markdown",
      "metadata": {
        "colab_type": "text",
        "id": "LvUOGdfHtf2_"
      },
      "source": [
        "### **Train the model**"
      ]
    },
    {
      "cell_type": "code",
      "metadata": {
        "colab_type": "code",
        "id": "WZVfUipbto0F",
        "outputId": "8cd27b36-9edb-4d02-c5ee-43a25367b1cb",
        "colab": {
          "base_uri": "https://localhost:8080/",
          "height": 986
        }
      },
      "source": [
        "batch_size = 64\n",
        "epochs = 24\n",
        "\n",
        "model.fit(x_train, y_train,\n",
        "                batch_size=batch_size,\n",
        "            steps_per_epoch=x_train.shape[0]//batch_size,\n",
        "            epochs=epochs,\n",
        "            validation_data=(x_test, y_test),)"
      ],
      "execution_count": 13,
      "outputs": [
        {
          "output_type": "stream",
          "text": [
            "Epoch 1/24\n",
            "782/782 [==============================] - 21s 27ms/step - loss: 1.7291 - accuracy: 0.4842 - val_loss: 1.1182 - val_accuracy: 0.6330\n",
            "Epoch 2/24\n",
            "782/782 [==============================] - 21s 27ms/step - loss: 1.1060 - accuracy: 0.6517 - val_loss: 1.0224 - val_accuracy: 0.6841\n",
            "Epoch 3/24\n",
            "782/782 [==============================] - 21s 26ms/step - loss: 0.9162 - accuracy: 0.7137 - val_loss: 0.9079 - val_accuracy: 0.7181\n",
            "Epoch 4/24\n",
            "782/782 [==============================] - 21s 27ms/step - loss: 0.8213 - accuracy: 0.7487 - val_loss: 1.7164 - val_accuracy: 0.5553\n",
            "Epoch 5/24\n",
            "782/782 [==============================] - 21s 27ms/step - loss: 0.7516 - accuracy: 0.7725 - val_loss: 0.8261 - val_accuracy: 0.7497\n",
            "Epoch 6/24\n",
            "782/782 [==============================] - 21s 27ms/step - loss: 0.6996 - accuracy: 0.7958 - val_loss: 0.8006 - val_accuracy: 0.7738\n",
            "Epoch 7/24\n",
            "782/782 [==============================] - 21s 27ms/step - loss: 0.6699 - accuracy: 0.8090 - val_loss: 0.7511 - val_accuracy: 0.7834\n",
            "Epoch 8/24\n",
            "782/782 [==============================] - 21s 27ms/step - loss: 0.6371 - accuracy: 0.8211 - val_loss: 0.7176 - val_accuracy: 0.7961\n",
            "Epoch 9/24\n",
            "782/782 [==============================] - 21s 27ms/step - loss: 0.6122 - accuracy: 0.8292 - val_loss: 0.7309 - val_accuracy: 0.7987\n",
            "Epoch 10/24\n",
            "782/782 [==============================] - 21s 27ms/step - loss: 0.5912 - accuracy: 0.8396 - val_loss: 0.6967 - val_accuracy: 0.8080\n",
            "Epoch 11/24\n",
            "782/782 [==============================] - 21s 26ms/step - loss: 0.5708 - accuracy: 0.8482 - val_loss: 0.7123 - val_accuracy: 0.8001\n",
            "Epoch 12/24\n",
            "782/782 [==============================] - 21s 26ms/step - loss: 0.5601 - accuracy: 0.8531 - val_loss: 0.6813 - val_accuracy: 0.8169\n",
            "Epoch 13/24\n",
            "782/782 [==============================] - 21s 26ms/step - loss: 0.5464 - accuracy: 0.8600 - val_loss: 0.7061 - val_accuracy: 0.8147\n",
            "Epoch 14/24\n",
            "782/782 [==============================] - 21s 27ms/step - loss: 0.5364 - accuracy: 0.8627 - val_loss: 0.6983 - val_accuracy: 0.8179\n",
            "Epoch 15/24\n",
            "782/782 [==============================] - 21s 27ms/step - loss: 0.5267 - accuracy: 0.8693 - val_loss: 0.6969 - val_accuracy: 0.8215\n",
            "Epoch 16/24\n",
            "782/782 [==============================] - 21s 26ms/step - loss: 0.5116 - accuracy: 0.8748 - val_loss: 0.6975 - val_accuracy: 0.8226\n",
            "Epoch 17/24\n",
            "782/782 [==============================] - 21s 27ms/step - loss: 0.5051 - accuracy: 0.8770 - val_loss: 0.6840 - val_accuracy: 0.8308\n",
            "Epoch 18/24\n",
            "782/782 [==============================] - 21s 27ms/step - loss: 0.5003 - accuracy: 0.8811 - val_loss: 0.6824 - val_accuracy: 0.8250\n",
            "Epoch 19/24\n",
            "782/782 [==============================] - 21s 26ms/step - loss: 0.4909 - accuracy: 0.8846 - val_loss: 0.6651 - val_accuracy: 0.8392\n",
            "Epoch 20/24\n",
            "782/782 [==============================] - 21s 27ms/step - loss: 0.4890 - accuracy: 0.8857 - val_loss: 0.6755 - val_accuracy: 0.8309\n",
            "Epoch 21/24\n",
            "782/782 [==============================] - 21s 26ms/step - loss: 0.4866 - accuracy: 0.8893 - val_loss: 0.6859 - val_accuracy: 0.8389\n",
            "Epoch 22/24\n",
            "782/782 [==============================] - 21s 27ms/step - loss: 0.4804 - accuracy: 0.8892 - val_loss: 0.6465 - val_accuracy: 0.8457\n",
            "Epoch 23/24\n",
            "782/782 [==============================] - 21s 27ms/step - loss: 0.4800 - accuracy: 0.8903 - val_loss: 0.7309 - val_accuracy: 0.8264\n",
            "Epoch 24/24\n",
            "782/782 [==============================] - 21s 27ms/step - loss: 0.4683 - accuracy: 0.8963 - val_loss: 0.6549 - val_accuracy: 0.8418\n"
          ],
          "name": "stdout"
        },
        {
          "output_type": "execute_result",
          "data": {
            "text/plain": [
              "<tensorflow.python.keras.callbacks.History at 0x7f9f4cef0748>"
            ]
          },
          "metadata": {
            "tags": []
          },
          "execution_count": 13
        }
      ]
    },
    {
      "cell_type": "markdown",
      "metadata": {
        "colab_type": "text",
        "id": "uJa3s3CotqRz"
      },
      "source": [
        "### **Save model and weights**"
      ]
    },
    {
      "cell_type": "code",
      "metadata": {
        "colab_type": "code",
        "id": "zAOnBqjHtuqF",
        "colab": {}
      },
      "source": [
        "# model.save(model_path)\n",
        "\n",
        "# model_path"
      ],
      "execution_count": 0,
      "outputs": []
    },
    {
      "cell_type": "code",
      "metadata": {
        "colab_type": "code",
        "id": "pOldRpmRKag6",
        "colab": {}
      },
      "source": [
        "# model = load_model(model_path)\n",
        "\n",
        "# model_path"
      ],
      "execution_count": 0,
      "outputs": []
    },
    {
      "cell_type": "markdown",
      "metadata": {
        "colab_type": "text",
        "id": "R1dTKNaetyJ2"
      },
      "source": [
        "### **Score trained model.**"
      ]
    },
    {
      "cell_type": "code",
      "metadata": {
        "colab_type": "code",
        "id": "TJhg27EZt2DP",
        "colab": {
          "base_uri": "https://localhost:8080/",
          "height": 56
        },
        "outputId": "f8272c90-c617-41ef-de9e-bd7747b5560c"
      },
      "source": [
        "scores = model.evaluate(x_test, y_test, batch_size=128)\n",
        "\n",
        "scores"
      ],
      "execution_count": 16,
      "outputs": [
        {
          "output_type": "stream",
          "text": [
            "79/79 [==============================] - 1s 12ms/step - loss: 0.6538 - accuracy: 0.8418\n"
          ],
          "name": "stdout"
        },
        {
          "output_type": "execute_result",
          "data": {
            "text/plain": [
              "[0.653809130191803, 0.8417999744415283]"
            ]
          },
          "metadata": {
            "tags": []
          },
          "execution_count": 16
        }
      ]
    }
  ]
}